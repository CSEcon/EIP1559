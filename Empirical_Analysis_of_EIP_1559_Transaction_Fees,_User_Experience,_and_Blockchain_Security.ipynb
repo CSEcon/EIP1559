{
  "nbformat": 4,
  "nbformat_minor": 0,
  "metadata": {
    "colab": {
      "name": "Empirical Analysis of EIP-1559: Transaction Fees, User Experience, and Blockchain Security.ipynb",
      "provenance": [],
      "collapsed_sections": [
        "5KfgTIcdis6E",
        "oGFGJW4lcxFH",
        "rGUScNiLqbgx",
        "HgEdNYBnv0Sf",
        "AZqhOExAohb0",
        "8yJNdxbqMqZE",
        "A1rBTeOyNCQh",
        "5bbDCPgeNAmN",
        "gEMnfsRKxyiP",
        "hVyEFATGoge5",
        "V26nC37swzdY"
      ],
      "include_colab_link": true
    },
    "kernelspec": {
      "display_name": "Python 3",
      "name": "python3"
    },
    "language_info": {
      "name": "python"
    }
  },
  "cells": [
    {
      "cell_type": "markdown",
      "metadata": {
        "id": "view-in-github",
        "colab_type": "text"
      },
      "source": [
        "<a href=\"https://colab.research.google.com/github/SciEcon/EIP1559/blob/main/Empirical_Analysis_of_EIP_1559_Transaction_Fees%2C_User_Experience%2C_and_Blockchain_Security.ipynb\" target=\"_parent\"><img src=\"https://colab.research.google.com/assets/colab-badge.svg\" alt=\"Open In Colab\"/></a>"
      ]
    },
    {
      "cell_type": "markdown",
      "metadata": {
        "id": "NClBZAVEh2YY"
      },
      "source": [
        "# Supplementary material (Main)\n",
        "**Paper Title**: \n",
        "\n",
        "[\"Empirical Analysis of EIP-1559: Transaction Fees, User Experience, and Blockchain Security\"](https://arxiv.org/abs/2201.05574), Accepted at [ACM CCS'22](https://www.sigsac.org/ccs/CCS2022/call-for-papers.html)\n",
        "\n",
        "**Author List**: \n",
        "\n",
        "Yulin Liu, Yuxuan Lu, Kartik Nayak, Fan Zhang\\*, Luyao Zhang\\*, and Yinhong Zhao \n",
        "\n",
        "(*names by alphabetic order, * corresponding authors*)\n"
      ]
    },
    {
      "cell_type": "markdown",
      "metadata": {
        "id": "5KfgTIcdis6E"
      },
      "source": [
        "# Import Packages"
      ]
    },
    {
      "cell_type": "code",
      "metadata": {
        "id": "yRQSxK8bhxhg"
      },
      "source": [
        "# import pandas and numpy\n",
        "import pandas as pd\n",
        "import numpy as np\n",
        "import matplotlib.pyplot as plt\n",
        "# Import Plotly Packages\n",
        "import plotly.express as px\n",
        "import plotly.offline as py     \n",
        "import plotly.graph_objects as go\n",
        "from plotly.subplots import make_subplots\n",
        "import plotly.io as pio"
      ],
      "execution_count": null,
      "outputs": []
    },
    {
      "cell_type": "code",
      "metadata": {
        "id": "XpnRvpZjPJEv"
      },
      "source": [
        "# Import Regression Packages\n",
        "from sklearn.linear_model import LinearRegression\n",
        "import statsmodels.api as sm\n",
        "import statsmodels.formula.api as smf\n",
        "pio.templates.default = \"simple_white\"\n",
        "# Install package for model comparison\n",
        "!pip install stargazer\n",
        "!pip install linearmodels\n",
        "from stargazer.stargazer import Stargazer\n",
        "from IPython.core.display import HTML\n",
        "from linearmodels import PooledOLS\n",
        "import statsmodels.api as sm\n",
        "from linearmodels import PanelOLS\n",
        "!pip install scipy"
      ],
      "execution_count": null,
      "outputs": []
    },
    {
      "cell_type": "code",
      "metadata": {
        "id": "r0BlNKlsdId6"
      },
      "source": [
        "# Import Kaleido\n",
        "!pip install -U kaleido\n",
        "!pip install plotly>=4.7.1\n",
        "!wget https://github.com/plotly/orca/releases/download/v1.2.1/orca-1.2.1-x86_64.AppImage -O /usr/local/bin/orca\n",
        "!chmod +x /usr/local/bin/orca\n",
        "!apt-get install xvfb libgtk2.0-0 libgconf-2-4"
      ],
      "execution_count": null,
      "outputs": []
    },
    {
      "cell_type": "code",
      "metadata": {
        "id": "GR1o7VnBjklU"
      },
      "source": [
        "#Mount drive and copy path of the input data\n",
        "from google.colab import drive\n",
        "drive.mount('/content/drive')\n",
        "print('Authenticated')"
      ],
      "execution_count": null,
      "outputs": []
    },
    {
      "cell_type": "markdown",
      "metadata": {
        "id": "oGFGJW4lcxFH"
      },
      "source": [
        "# Import and Merge Data"
      ]
    },
    {
      "cell_type": "code",
      "metadata": {
        "id": "NB5sHcRAcz48"
      },
      "source": [
        "block = pd.read_csv(\"/content/drive/MyDrive/EIP-1559/EIP-1559 Data/block.csv\")\n",
        "MEV = pd.read_csv(\"/content/drive/MyDrive/EIP-1559/EIP-1559 Data/FULL_MEVdata.csv\")\n",
        "waiting_time = pd.read_csv(\"/content/drive/MyDrive/EIP-1559/EIP-1559 Data/FULL_waiting_time.csv\")\n",
        "gas_price = pd.read_csv(\"/content/drive/MyDrive/EIP-1559/EIP-1559 Data/FULL_gasprices.csv\")\n",
        "sibling_cnt = pd.read_csv(\"/content/drive/MyDrive/EIP-1559/EIP-1559 Data/sibling_csv.csv\")\n",
        "supply = pd.read_csv(\"/content/drive/MyDrive/EIP-1559/EIP-1559 Data/supply_csv(detailed).csv\")\n",
        "avggas = pd.read_csv(\"/content/drive/MyDrive/EIP-1559/EIP-1559 Data/avggas_per.csv\")"
      ],
      "execution_count": null,
      "outputs": []
    },
    {
      "cell_type": "code",
      "metadata": {
        "id": "VnHCHC9BfU6Z"
      },
      "source": [
        "price = pd.read_csv('/content/drive/My Drive/EIP-1559/EIP-1559 Data/ETHprice21Aug.csv').reset_index(drop=True)\n",
        "price['minute'] = pd.to_datetime(price['Date']).dt.tz_localize('US/Eastern').dt.tz_convert('UTC')\n",
        "price = price.drop(['Date'], axis=1).sort_values('minute').reset_index(drop = True)\n",
        "price['HML'] = np.log(price['High']) - np.log(price['Low'])\n",
        "price['OMC'] = abs(np.log(price['Close']) - np.log(price['Open']))\n",
        "price['volatility30'] = np.sqrt(30) * price['OMC'].rolling(window=30).mean()\n",
        "price['volatility90'] = np.sqrt(60) * price['OMC'].rolling(window=90).mean()\n",
        "price['volatility180'] = np.sqrt(180) * price['OMC'].rolling(window=180).mean()"
      ],
      "execution_count": null,
      "outputs": []
    },
    {
      "cell_type": "code",
      "metadata": {
        "id": "2WT07axfV-uX"
      },
      "source": [
        "gas_price = gas_price/10**9\n",
        "gas_price[[\"block_number\", \"all_gpcount\", \"all_mfcount\", \"all_prcount\", \"legacy_gpcount\", \"legacy_mfcount\", \"legacy_prcount\", \"eip_gpcount\", \"eip_mfcount\", \"eip_prcount\"]] = gas_price[[\"block_number\", \"all_gpcount\", \"all_mfcount\", \"all_prcount\", \"legacy_gpcount\", \"legacy_mfcount\", \"legacy_prcount\", \"eip_gpcount\", \"eip_mfcount\", \"eip_prcount\"]] * 10**9\n",
        "supply = supply[[\"block_number\", \"total_supply\"]]"
      ],
      "execution_count": null,
      "outputs": []
    },
    {
      "cell_type": "code",
      "metadata": {
        "id": "oyoBLVM5WBZc"
      },
      "source": [
        "supply = supply[[\"block_number\", \"total_supply\"]]\n",
        "df = pd.merge(waiting_time, block, on = \"block_number\", how = \"left\")\n",
        "df = pd.merge(df, gas_price, on = \"block_number\", how = \"left\")\n",
        "df = pd.merge(df, supply, on = \"block_number\", how = \"left\")\n",
        "\n",
        "df['BQ_timestamp'] = pd.to_datetime(df['BQ_timestamp'])\n",
        "df['minute'] = df.BQ_timestamp.dt.floor(freq=\"T\")\n",
        "df['hour'] = df.BQ_timestamp.dt.hour\n",
        "df = pd.merge(df, price, on = \"minute\", how = \"left\")\n",
        "df[\"base_fee\"] = df[\"base_fee\"]/10**9\n",
        "df = df[df['block_number'] < 13105000]\n",
        "df = df[df['block_number'] > 12894999]\n",
        "df['period'] = (df['block_number'] > 12894999).astype(int) + (df['block_number'] > 12964999).astype(int) + (df['block_number'] > 13034999).astype(int)\n",
        "df['EIP'] = (df['block_number'] > 12964999) + 0\n",
        "df = df.drop_duplicates(\"block_number\").reset_index(drop = True)\n",
        "df[\"adoption\"] =  df[\"all_mfcount\"]/df[\"all_gpcount\"]\n",
        "df[\"iqdiff\"] = df[\"all_gpq75\"]-df[\"all_gpq25\"]\n",
        "df[\"normalized_iqdiff\"] = (df[\"all_gpq75\"]-df[\"all_gpq25\"])/df[\"all_gpq50\"]\n",
        "df['iqd_legacy_gpq']=df['legacy_gpq75']-df['legacy_gpq25']\n",
        "df['iqd_eip_gpq']=df['eip_gpq75']-df['eip_gpq25']\n",
        "df[\"total_supply\"] = df[\"total_supply\"].astype(float)/10**18\n",
        "df['ROI']=df['Close'].pct_change()\n",
        "for i in range(0,24):\n",
        "  varname = \"hour\" + str(i)\n",
        "  df[varname] = (df['hour'] == i) + 0"
      ],
      "execution_count": null,
      "outputs": []
    },
    {
      "cell_type": "code",
      "metadata": {
        "id": "KxjzJZf8Yy_9"
      },
      "source": [
        "df_13 = df[df[\"period\"] != 2]\n",
        "df_13['nblock']=df_13['block_number']\n",
        "df_13['nblock']=df_13['block_number'].apply(lambda x: x-12965000 if x<13035000 else x-13035000)\n",
        "df1 = df_13[df_13[\"period\"] == 1]\n",
        "df3 = df_13[df_13[\"period\"] == 3]"
      ],
      "execution_count": null,
      "outputs": []
    },
    {
      "cell_type": "markdown",
      "metadata": {
        "id": "fTsCAfvfnEBN"
      },
      "source": [
        "# Visualization"
      ]
    },
    {
      "cell_type": "markdown",
      "metadata": {
        "id": "rGUScNiLqbgx"
      },
      "source": [
        "## Block Characteristics"
      ]
    },
    {
      "cell_type": "code",
      "metadata": {
        "id": "UtUSGqKbqUA7"
      },
      "source": [
        "#Time Series for Block Gas Limit and Block Gas Used\n",
        "trace0 = go.Scattergl(x = df[\"block_number\"], y = df[\"gas_used\"], hoverinfo='x+y', mode='markers',  name = 'gas used', marker=dict(size=0.2, opacity=0.3))\n",
        "trace1 = go.Scattergl(x = df[\"block_number\"], y = df[\"gas_limit\"], hoverinfo='x+y', mode='lines',  name = 'gas limit', marker=dict(size=2))\n",
        "\n",
        "layout = go.Layout(xaxis = dict(title=\"block number\"), yaxis = dict(title =\"gas\") ) \n",
        "data = [trace1, trace0]\n",
        "fig_used = go.Figure(layout = layout, data = data) \n",
        "fig_used = fig_used.add_trace(go.Scatter(x=[12965000, 12965000], y=[0, 30000000], mode=\"lines\", name=\"London Hardfork\"))\n",
        "fig_used.update_layout(\n",
        "    legend=dict(\n",
        "      yanchor=\"top\",\n",
        "      y=0.99,\n",
        "      xanchor=\"left\",\n",
        "      x=0.01,\n",
        "      itemsizing = \"constant\"),\n",
        "    font = dict(size = 24)\n",
        "    )\n",
        "fig_used.show()\n",
        "fig_used.write_image(\"/content/drive/MyDrive/EIP-1559/Code & Output/colab output/pdf/gas used.pdf\", width = 1200, height = 600)\n",
        "fig_used.write_image(\"/content/drive/MyDrive/EIP-1559/Code & Output/colab output/png/gas used.png\", width = 1200, height = 600)"
      ],
      "execution_count": null,
      "outputs": []
    },
    {
      "cell_type": "code",
      "metadata": {
        "id": "A08fXTnA-qk5"
      },
      "source": [
        "df_after = df[df[\"block_number\"] > 12965000]\n",
        "df_after = df_after[df_after[\"gas_used\"] < 30000000]\n",
        "fig_used2 = px.histogram(df_after, x=\"gas_used\", nbins=50, histnorm=\"percent\")\n",
        "fig_used2.update_layout(yaxis_title = \"percent\", xaxis_title = \"gas used\", font = dict(size = 24))\n",
        "fig_used2.show()\n",
        "fig_used2.write_image(\"/content/drive/MyDrive/EIP-1559/Code & Output/colab output/pdf/gas used distribution.pdf\", width = 1200, height = 600)\n",
        "fig_used2.write_image(\"/content/drive/MyDrive/EIP-1559/Code & Output/colab output/png/gas used distribution.png\", width = 1200, height = 600)"
      ],
      "execution_count": null,
      "outputs": []
    },
    {
      "cell_type": "code",
      "metadata": {
        "id": "vdN4kevh2_jZ"
      },
      "source": [
        "df[\"usage\"] = df[\"all_mfcount\"]/df[\"all_gpcount\"]\n",
        "\n",
        "df_after = df[df[\"block_number\"] > 12965000]\n",
        "df_after[\"usage\"] =  df_after[\"all_mfcount\"]/df_after[\"all_gpcount\"]\n",
        "olsmod = smf.ols('usage ~ 1+ block_number', data=df_after).fit()\n",
        "df_after[\"usage_fitted\"] = olsmod.predict(df_after[\"block_number\"])\n",
        "\n",
        "trace1 = go.Scattergl(x = df[\"block_number\"], y = df[\"usage\"], hoverinfo='x+y', mode='markers', name = 'adoption rate', marker=dict(size=1, opacity = 0.6))\n",
        "trace2 = go.Scattergl(x = df_after[\"block_number\"], y = df_after[\"usage_fitted\"], hoverinfo='x+y', mode='lines', name = 'fitted line')\n",
        "layout = go.Layout(xaxis = dict(title=\"block number\"), yaxis = dict(title =\"adoption rate\")) \n",
        "data = [trace1, trace2]\n",
        "\n",
        "fig_adoption = go.Figure(layout = layout, data = data) \n",
        "fig_adoption.add_trace(go.Scatter(x=[12965000, 12965000], y=[0,1], mode=\"lines\", name=\"London Hardfork\"))\n",
        "fig_adoption.update_layout(legend=dict(\n",
        "    yanchor=\"top\",\n",
        "    y=0.99,\n",
        "    xanchor=\"left\",\n",
        "    x=0.01,\n",
        "    itemsizing = \"constant\"),\n",
        "    font = dict(size = 24))\n",
        "fig_adoption.show()\n",
        "fig_adoption.write_image(\"/content/drive/MyDrive/EIP-1559/Code & Output/colab output/pdf/adoption rate.pdf\", width = 1200, height = 600)\n",
        "fig_adoption.write_image(\"/content/drive/MyDrive/EIP-1559/Code & Output/colab output/png/adoption rate.png\", width = 1200, height = 600)"
      ],
      "execution_count": null,
      "outputs": []
    },
    {
      "cell_type": "markdown",
      "metadata": {
        "id": "aUixayEA0kE5"
      },
      "source": [
        "## Block Transaction Fees"
      ]
    },
    {
      "cell_type": "code",
      "metadata": {
        "id": "VTaAJQgS0nsP"
      },
      "source": [
        "df_basefee = df[(df[\"base_fee\"] < 200) | (df[\"base_fee\"].isna())]\n",
        "fig_basefee = go.Figure()\n",
        "fig_basefee.add_trace(\n",
        "   go.Scattergl(x = df_basefee[\"block_number\"], y = df_basefee[\"base_fee\"], hoverinfo='x+y', mode='markers', name = 'base fee', marker=dict(size=1)),\n",
        ")\n",
        "\n",
        "fig_basefee.add_trace(go.Scatter(x=[12965000, 12965000], y=[0,200], mode=\"lines\", name=\"London Hardfork\"))\n",
        "fig_basefee.update_layout(\n",
        "   xaxis = dict(title=\"block number\"), \n",
        "   yaxis = dict(title =\"base fee (Gwei)\"),\n",
        "   font = dict(size = 24)\n",
        ") \n",
        "fig_basefee.update_layout(legend=dict(\n",
        "    orientation = \"h\",\n",
        "    yanchor=\"top\",\n",
        "    y=0.99,\n",
        "    xanchor=\"left\",\n",
        "    x=0.01,\n",
        "    itemsizing = \"constant\"\n",
        "))\n",
        "fig_basefee.show()\n",
        "fig_basefee.write_image(\"/content/drive/MyDrive/EIP-1559/Code & Output/colab output/pdf/base fee.pdf\", width = 1200, height = 600)\n",
        "fig_basefee.write_image(\"/content/drive/MyDrive/EIP-1559/Code & Output/colab output/png/base fee.png\", width = 1200, height = 600)"
      ],
      "execution_count": null,
      "outputs": []
    },
    {
      "cell_type": "code",
      "metadata": {
        "id": "WfJzecxE5c8S"
      },
      "source": [
        "df[\"ma_total_supply\"] = df[\"total_supply\"].rolling(500, min_periods=100).mean()\n",
        "df_supply = df[df[\"total_supply\"]> -5]\n",
        "fig_supply = go.Figure()\n",
        "fig_supply.add_trace(\n",
        "   go.Scattergl(x = df_supply[\"block_number\"], y = df_supply[\"total_supply\"], hoverinfo='x+y', mode='markers', name = 'net supply', marker=dict(size=1, opacity = 0.3)),\n",
        ")\n",
        "fig_supply.add_trace(\n",
        "    go.Scattergl(x = df_supply[\"block_number\"], y = df_supply[\"ma_total_supply\"], hoverinfo='x+y', mode='lines',  \n",
        "               name = 'net supply moving average', marker=dict(size=1, color = \"black\", opacity = 0.8)),\n",
        ")\n",
        "fig_supply.update_layout(\n",
        "   xaxis = dict(title=\"block number\"), \n",
        "   yaxis = dict(title =\"net supply\"),\n",
        "   font = dict(size = 24)\n",
        ") \n",
        "fig_supply.add_trace(go.Scatter(x=[12965000, 12965000], y=[-4,6], mode=\"lines\", name=\"London Hard Fork\"))\n",
        "fig_supply.update_layout(legend=dict(\n",
        "    orientation = \"h\",\n",
        "    yanchor=\"top\",\n",
        "    y=0.99,\n",
        "    xanchor=\"left\",\n",
        "    x=0.01,\n",
        "    itemsizing = \"constant\"\n",
        "))\n",
        "fig_supply.show()\n",
        "fig_supply.write_image(\"/content/drive/MyDrive/EIP-1559/Code & Output/colab output/pdf/net supply.pdf\", width = 1200, height = 600)\n",
        "fig_supply.write_image(\"/content/drive/MyDrive/EIP-1559/Code & Output/colab output/png/net supply.png\", width = 1200, height = 600)"
      ],
      "execution_count": null,
      "outputs": []
    },
    {
      "cell_type": "code",
      "metadata": {
        "id": "N9Xh5gKz4UPC"
      },
      "source": [
        "df_gp = df[df['all_gpq75'] < 200]\n",
        "trace1 = go.Scattergl(x = df_gp[\"block_number\"], y = df_gp[\"all_gpq25\"], hoverinfo='x+y', mode='markers',  name = '25% quartile actual gas price paid', marker=dict(size=0.5))\n",
        "trace2 = go.Scattergl(x = df_gp[\"block_number\"], y = df_gp[\"all_gpq50\"], hoverinfo='x+y', mode='markers',  name = '50% quartile actual gas price paid', marker=dict(size=0.5))\n",
        "trace3 = go.Scattergl(x = df_gp[\"block_number\"], y = df_gp[\"all_gpq75\"], hoverinfo='x+y', mode='markers',  name = '75% quartile actual gas price paid', marker=dict(size=0.5))\n",
        "\n",
        "layout = go.Layout(xaxis = dict(title=\"block number\"), yaxis = dict(title =\"gas price paid (Gwei)\") ) \n",
        "data = [trace1, trace2, trace3]\n",
        "\n",
        "fig_gp = go.Figure(layout = layout, data = data) \n",
        "fig_gp.add_trace(go.Scatter(x=[12965000, 12965000], y=[0,200], mode=\"lines\", name=\"London Hardfork\"))\n",
        "fig_gp.update_layout(legend=dict(\n",
        "    yanchor=\"top\",\n",
        "    y=0.99,\n",
        "    xanchor=\"left\",\n",
        "    x=0.01,\n",
        "    itemsizing = \"constant\"),\n",
        "    font = dict(size = 24))\n",
        "fig_gp.write_image(\"/content/drive/MyDrive/EIP-1559/Code & Output/colab output/pdf/gas price.pdf\", width = 1200, height = 600)\n",
        "fig_gp.write_image(\"/content/drive/MyDrive/EIP-1559/Code & Output/colab output/png/gas price.png\", width = 1200, height = 600)"
      ],
      "execution_count": null,
      "outputs": []
    },
    {
      "cell_type": "code",
      "metadata": {
        "id": "FORlqCM7Icyg"
      },
      "source": [
        "#Time Series for Inter-quartile Difference of Gas Price\n",
        "df[\"iqdiff\"] = df[\"all_gpq75\"]-df[\"all_gpq25\"]\n",
        "df[\"normalized_iqdiff\"] = (df[\"all_gpq75\"]-df[\"all_gpq25\"])/df[\"all_gpq50\"]\n",
        "df_iq = df[df[\"iqdiff\"]<50]\n",
        "df_iq = df_iq[df_iq[\"normalized_iqdiff\"]<1]\n",
        "df_iq[\"ma_iqdiff\"] = df_iq[\"iqdiff\"].rolling(500, min_periods=100).mean()\n",
        "df_iq[\"ma_normalized_iqdiff\"] = df_iq[\"normalized_iqdiff\"].rolling(500, min_periods=100).mean()\n",
        "\n",
        "fig_iqdiff = make_subplots(rows=2, cols=1)\n",
        "fig_iqdiff.add_trace(\n",
        "    go.Scattergl(x = df_iq[\"block_number\"], y = df_iq[\"iqdiff\"], hoverinfo='x+y', mode='markers',  \n",
        "               name = 'within-block inter-quartile difference', marker=dict(size=1, opacity = 0.8)),\n",
        "               row = 1, col = 1\n",
        ")\n",
        "fig_iqdiff.add_trace(\n",
        "    go.Scattergl(x = df_iq[\"block_number\"], y = df_iq[\"normalized_iqdiff\"], hoverinfo='x+y', mode='markers',  \n",
        "               name = 'within-block normalized inter-quartile difference', marker=dict(size=1, opacity = 0.8)),\n",
        "               row = 2, col = 1\n",
        ")\n",
        "fig_iqdiff.add_trace(\n",
        "    go.Scattergl(x = df_iq[\"block_number\"], y = df_iq[\"ma_iqdiff\"], hoverinfo='x+y', mode='lines',  \n",
        "               name = 'within-block inter-quartile difference', marker=dict(size=1, color = \"black\", opacity = 0.8)),\n",
        "               row = 1, col = 1\n",
        ")\n",
        "fig_iqdiff.add_trace(\n",
        "    go.Scattergl(x = df_iq[\"block_number\"], y = df_iq[\"ma_normalized_iqdiff\"], hoverinfo='x+y', mode='lines',  \n",
        "               name = 'within-block normalized inter-quartile difference', marker=dict(size=1, color = \"black\", opacity = 0.8)),\n",
        "               row = 2, col = 1\n",
        ")\n",
        "fig_iqdiff.add_trace(go.Scatter(x=[12965000, 12965000], y=[0,50], mode=\"lines\", name=\"London Hardfork\"), row = 1, col =1)\n",
        "fig_iqdiff.add_trace(go.Scatter(x=[12965000, 12965000], y=[0,1], mode=\"lines\", name=\"London Hardfork\"), row = 2, col =1)\n",
        "fig_iqdiff.update_layout(\n",
        "    showlegend = False,\n",
        "    font = dict(size = 24)\n",
        ")\n",
        "\n",
        "fig_iqdiff.update_xaxes(title_text=\"block_number\", row=2, col=1)\n",
        "fig_iqdiff.update_yaxes(title_text=\"IQR\", row=1, col=1)\n",
        "fig_iqdiff.update_yaxes(title_text=\"std IQR\", row=2, col=1)\n",
        "fig_iqdiff.show()\n",
        "fig_iqdiff.write_image(\"/content/drive/MyDrive/EIP-1559/Code & Output/colab output/pdf/inter-quartile difference.pdf\", width = 1200, height = 800)\n",
        "fig_iqdiff.write_image(\"/content/drive/MyDrive/EIP-1559/Code & Output/colab output/png/inter-quartile difference.png\", width = 1200, height = 800)"
      ],
      "execution_count": null,
      "outputs": []
    },
    {
      "cell_type": "code",
      "metadata": {
        "id": "u_6U89E0CLfd"
      },
      "source": [
        "#Priority Fee Bid Distribution\n",
        "df_after = df[df[\"block_number\"]>12965000]\n",
        "df_pr = df_after[df[\"all_prq75\"] < 20]\n",
        "\n",
        "trace1 = go.Scattergl(x = df_pr[\"block_number\"], y = df_pr[\"all_prq25\"], hoverinfo='x+y', mode='markers',  name = '25% quartile pr. fee bid', marker=dict(size=1.5))\n",
        "trace2 = go.Scattergl(x = df_pr[\"block_number\"], y = df_pr[\"all_prq50\"], hoverinfo='x+y', mode='markers',  name = '50% quartile pr. fee bid', marker=dict(size=1.5))\n",
        "trace3 = go.Scattergl(x = df_pr[\"block_number\"], y = df_pr[\"all_prq75\"], hoverinfo='x+y', mode='markers',  name = '75% quartile pr. fee bid', marker=dict(size=1.5))\n",
        "\n",
        "layout = go.Layout(xaxis = dict(title=\"block number\"), yaxis = dict(title =\"max priority fee bid(Gwei)\") ) \n",
        "data = [trace1, trace2, trace3]\n",
        "\n",
        "fig_prfee = go.Figure(layout = layout, data = data) \n",
        "fig_prfee.update_layout(legend=dict(\n",
        "    orientation = \"h\",\n",
        "    yanchor=\"top\",\n",
        "    y=0.99,\n",
        "    xanchor=\"left\",\n",
        "    x=0.01,\n",
        "    itemsizing = \"constant\"),\n",
        "    font = dict(size = 24))\n",
        "fig_prfee.show()\n",
        "fig_prfee.write_image(\"/content/drive/MyDrive/EIP-1559/Code & Output/colab output/pdf/timeseries prfee.pdf\", width = 1200, height = 600)\n",
        "fig_prfee.write_image(\"/content/drive/MyDrive/EIP-1559/Code & Output/colab output/png/timeseries prfee.png\", width = 1200, height = 600)"
      ],
      "execution_count": null,
      "outputs": []
    },
    {
      "cell_type": "code",
      "metadata": {
        "id": "-oFFnvG2P0Ac"
      },
      "source": [
        "df_after = df[df[\"block_number\"] > 12965000]\n",
        "df_after = df_after[df_after[\"all_prq50\"] < 20]\n",
        "fig_prdst = px.histogram(df_after, x=\"all_prq50\", nbins=20, histnorm=\"percent\")\n",
        "fig_prdst.update_layout(yaxis_title = \"percent\", \n",
        "                        xaxis_title = \"block median priority fee\", \n",
        "                        font = dict(size = 24), \n",
        "                        legend = dict(itemsizing = \"constant\"))\n",
        "fig_prdst.show()\n",
        "\n",
        "fig_prdst.write_image(\"/content/drive/MyDrive/EIP-1559/Code & Output/colab output/pdf/priority fee.pdf\", width = 1200, height = 600)\n",
        "fig_prdst.write_image(\"/content/drive/MyDrive/EIP-1559/Code & Output/colab output/png/priority fee.png\", width = 1200, height = 600)"
      ],
      "execution_count": null,
      "outputs": []
    },
    {
      "cell_type": "code",
      "metadata": {
        "id": "cxUV_VwRCt9q"
      },
      "source": [
        "#Max Fee Bid Distribution\n",
        "df_after = df[df[\"block_number\"]>12965000]\n",
        "df_mf = df_after[df[\"all_mfq75\"] < 200]\n",
        "\n",
        "trace1 = go.Scattergl(x = df_mf[\"block_number\"], y = df_mf[\"all_mfq25\"], hoverinfo='x+y', mode='markers',  name = '25% quartile max fee bid', marker=dict(size=1))\n",
        "trace2 = go.Scattergl(x = df_mf[\"block_number\"], y = df_mf[\"all_mfq50\"], hoverinfo='x+y', mode='markers',  name = '50% quartile max fee bid', marker=dict(size=1))\n",
        "trace3 = go.Scattergl(x = df_mf[\"block_number\"], y = df_mf[\"all_mfq75\"], hoverinfo='x+y', mode='markers',  name = '75% quartile max fee bid', marker=dict(size=1))\n",
        "\n",
        "layout = go.Layout(xaxis = dict(title=\"block number\"), yaxis = dict(title =\"max fee bid (Gwei)\") ) \n",
        "data = [trace1, trace2, trace3]\n",
        "\n",
        "fig_mf = go.Figure(layout = layout, data = data) \n",
        "fig_mf.update_layout(legend=dict(\n",
        "    orientation = \"h\",\n",
        "    yanchor=\"top\",\n",
        "    y=0.99,\n",
        "    xanchor=\"left\",\n",
        "    x=0.01,\n",
        "    itemsizing = \"constant\"),\n",
        "    font = dict(size = 24)\n",
        "  )\n",
        "fig_mf.show()\n",
        "fig_mf.write_image(\"/content/drive/MyDrive/EIP-1559/Code & Output/colab output/pdf/max fee.pdf\", width = 1200, height = 600)\n",
        "fig_mf.write_image(\"/content/drive/MyDrive/EIP-1559/Code & Output/colab output/png/max fee.png\", width = 1200, height = 600)"
      ],
      "execution_count": null,
      "outputs": []
    },
    {
      "cell_type": "code",
      "metadata": {
        "id": "ttB1Xzjb8gsH"
      },
      "source": [
        "#Overview of Gas Price Bid and Paid Distribution\n",
        "df_after = df[df[\"block_number\"]>12965000]\n",
        "df_all = df_after[df_after[\"all_gpq50\"] < 250]\n",
        "df_all = df_all[df_all[\"all_mfq50\"] < 250]\n",
        "df_all[\"all_aprq50\"] = df_all[\"all_gpq50\"] - df_all[\"base_fee\"]\n",
        "df_all = df_all[df_all[\"all_prq50\"] < 250]\n",
        "df_all = df_all[df_all[\"base_fee\"] < 250]\n",
        "\n",
        "trace1 = go.Scattergl(x = df_all[\"block_number\"], y = df_all[\"all_gpq50\"], hoverinfo='x+y', mode='markers',  name = 'median gas price paid', marker=dict(size=0.5))\n",
        "trace2 = go.Scattergl(x = df_all[\"block_number\"], y = df_all[\"all_mfq50\"], hoverinfo='x+y', mode='markers',  name = 'median max fee bid', marker=dict(size=0.5))\n",
        "\n",
        "layout = go.Layout(xaxis = dict(title=\"block number\"), yaxis = dict(title =\"gas price (Gwei)\") ) \n",
        "data = [trace1, trace2]\n",
        "\n",
        "fig_all = go.Figure(layout = layout, data = data) \n",
        "fig_all.update_layout(legend=dict(\n",
        "    orientation = \"h\",\n",
        "    yanchor=\"top\",\n",
        "    y=0.99,\n",
        "    xanchor=\"left\",\n",
        "    x=0.01,\n",
        "    itemsizing = \"constant\"),\n",
        "    font = dict(size = 24))\n",
        "fig_all.show()\n",
        "fig_all.write_image(\"/content/drive/MyDrive/EIP-1559/Code & Output/colab output/pdf/max fee & gp.pdf\", width = 1200, height = 600)\n",
        "fig_all.write_image(\"/content/drive/MyDrive/EIP-1559/Code & Output/colab output/png/max fee & gp.png\", width = 1200, height = 600)"
      ],
      "execution_count": null,
      "outputs": []
    },
    {
      "cell_type": "markdown",
      "metadata": {
        "id": "HgEdNYBnv0Sf"
      },
      "source": [
        "## Waiting Time"
      ]
    },
    {
      "cell_type": "code",
      "metadata": {
        "id": "2bHY83eB3ooA"
      },
      "source": [
        "print(df1[\"all_wtq50\"].describe())\n",
        "print(df3[\"all_wtq50\"].describe())\n",
        "print(df3[\"legacy_wtq50\"].describe())\n",
        "print(df3[\"eip_wtq50\"].describe())"
      ],
      "execution_count": null,
      "outputs": []
    },
    {
      "cell_type": "code",
      "metadata": {
        "id": "Csky5mJAPdOt"
      },
      "source": [
        "df_wt = df_13[df_13[\"all_wtq50\"] < 60]\n",
        "df_wt = df_wt[df_wt[\"all_wtq50\"] > 0]\n",
        "df_wt[\"London Hardfork\"] = df_wt[\"EIP\"]\n",
        "df_wt.loc[df_wt[\"London Hardfork\"] == 0, \"London Hardfork\"] = \" before London Hardfork\"\n",
        "df_wt.loc[df_wt[\"London Hardfork\"] == 1, \"London Hardfork\"] = \" after London Hardfork\"\n",
        "\n",
        "fig_wtdis = px.histogram(df_wt, x=\"all_wtq50\", color=\"London Hardfork\", histnorm = \"percent\", marginal = \"box\", barmode='overlay', labels={\"London Hardfork\": \"\"})\n",
        "fig_wtdis.update_layout(\n",
        "    xaxis = dict(title=\"median waiting time\"),\n",
        "    yaxis = dict(title = \"percent\"),\n",
        "    font = dict(size = 24)\n",
        ")\n",
        "fig_wtdis.update_layout(legend=dict(\n",
        "    yanchor=\"top\",\n",
        "    y=0.6,\n",
        "    xanchor=\"left\",\n",
        "    x=0.7),\n",
        "    font = dict(size = 24))\n",
        "fig_wtdis.show()\n",
        "fig_wtdis.write_image(\"/content/drive/MyDrive/EIP-1559/Code & Output/colab output/pdf/median waiting time distribution.pdf\", width = 1200, height = 600)\n",
        "fig_wtdis.write_image(\"/content/drive/MyDrive/EIP-1559/Code & Output/colab output/png/median waiting time distribution.png\", width = 1200, height = 600)"
      ],
      "execution_count": null,
      "outputs": []
    },
    {
      "cell_type": "code",
      "metadata": {
        "id": "yyAGqYPq1yR8"
      },
      "source": [
        "df_wt1 = df3[df3[\"all_wtq50\"] < 60]\n",
        "df_wt1 = df_wt1[df_wt1[\"all_wtq50\"] > 0]\n",
        "df_wt1 = df_wt1.rename(columns = {'all_wtq50': 'waiting time'})\n",
        "df_wt1 = df_wt1[[\"block_number\", \"waiting time\"]]\n",
        "df_wt1[\"category\"] = \"All\"\n",
        "\n",
        "df_wt2 = df3[df3[\"legacy_wtq50\"] < 60]\n",
        "df_wt2 = df_wt2[df_wt2[\"legacy_wtq50\"] > 0]\n",
        "df_wt2 = df_wt2.rename(columns = {'legacy_wtq50': 'waiting time'})\n",
        "df_wt2 = df_wt2[[\"block_number\", \"waiting time\"]]\n",
        "df_wt2[\"category\"] = \"Legacy\"\n",
        "\n",
        "df_wt3 = df3[df3[\"eip_wtq50\"] < 60]\n",
        "df_wt3 = df_wt3[df_wt3[\"eip_wtq50\"] > 0]\n",
        "df_wt3 = df_wt3.rename(columns = {'eip_wtq50': 'waiting time'})\n",
        "df_wt3 = df_wt3[[\"block_number\", \"waiting time\"]]\n",
        "df_wt3[\"category\"] = \"EIP\"\n",
        "\n",
        "df_wt = pd.concat([df_wt1, df_wt2, df_wt3])\n",
        "\n",
        "fig_wtdis2 = px.histogram(df_wt, x=\"waiting time\", color=\"category\", histnorm = \"percent\", marginal = \"box\", barmode='overlay')\n",
        "fig_wtdis2.update_layout(\n",
        "    xaxis = dict(title=\"median waiting time\"),\n",
        "    yaxis = dict(title = \"percent\"),\n",
        "    font = dict(size = 24)\n",
        ")\n",
        "fig_wtdis2.update_layout(legend=dict(\n",
        "    yanchor=\"top\",\n",
        "    y=0.6,\n",
        "    xanchor=\"left\",\n",
        "    x=0.7),\n",
        "    font = dict(size = 24))\n",
        "fig_wtdis2.show()\n",
        "fig_wtdis2.write_image(\"/content/drive/MyDrive/EIP-1559/Code & Output/colab output/pdf/wtdistr by type.pdf\", width = 1200, height = 600)\n",
        "fig_wtdis2.write_image(\"/content/drive/MyDrive/EIP-1559/Code & Output/colab output/png/wtdistr by type.png\", width = 1200, height = 600)"
      ],
      "execution_count": null,
      "outputs": []
    },
    {
      "cell_type": "markdown",
      "metadata": {
        "id": "AZqhOExAohb0"
      },
      "source": [
        "# Regressions"
      ]
    },
    {
      "cell_type": "code",
      "metadata": {
        "id": "lqbpLaxnOj4G"
      },
      "source": [
        "hourfe = \"+ hour1 + hour2 + hour3 + hour4 + hour5 + hour6 + hour7 + hour8 + hour9 + hour10 + hour11 + hour12 + hour13 + hour14 + hour15 + hour16 + hour17 + hour18 + hour19 + hour20 + hour21 + hour22 + hour23\""
      ],
      "execution_count": null,
      "outputs": []
    },
    {
      "cell_type": "markdown",
      "metadata": {
        "id": "8yJNdxbqMqZE"
      },
      "source": [
        "## Gas Price"
      ]
    },
    {
      "cell_type": "code",
      "metadata": {
        "colab": {
          "base_uri": "https://localhost:8080/"
        },
        "id": "IKryr6EfMshU",
        "outputId": "4af98dbb-39a9-4e2e-da03-849a8a8fe44f"
      },
      "source": [
        "results1 = smf.ols('all_gpq50 ~ 1+ EIP', data=df_13).fit()\n",
        "results2 = smf.ols('all_gpq50 ~ 1+ EIP + adoption + nblock', data=df_13).fit()\n",
        "results3 = smf.ols('all_gpq50 ~ 1+ EIP + nblock +adoption+size+ROI+volatility90', data=df_13).fit()\n",
        "stargazer = Stargazer([results1,results2,results3])\n",
        "stargazer.title('Gas Fee Median in ETH')\n",
        "stargazer.significant_digits(4)\n",
        "stargazer.covariate_order(['EIP','adoption','nblock','size','ROI','volatility90','Intercept'])\n",
        "HTML(stargazer.render_html())\n",
        "print(stargazer.render_latex())"
      ],
      "execution_count": null,
      "outputs": [
        {
          "name": "stdout",
          "output_type": "stream",
          "text": [
            "\\begin{table}[!htbp] \\centering\n",
            "  \\caption{Gas Fee Median in ETH}\n",
            "\\begin{tabular}{@{\\extracolsep{5pt}}lccc}\n",
            "\\\\[-1.8ex]\\hline\n",
            "\\hline \\\\[-1.8ex]\n",
            "& \\multicolumn{3}{c}{\\textit{Dependent variable:}} \\\n",
            "\\cr \\cline{3-4}\n",
            "\\\\[-1.8ex] & (1) & (2) & (3) \\\\\n",
            "\\hline \\\\[-1.8ex]\n",
            " EIP & 20.2246$^{***}$ & -11.8181$^{***}$ & -13.6894$^{***}$ \\\\\n",
            "  & (0.3528) & (0.7543) & (0.7509) \\\\\n",
            " adoption & & -0.5387$^{}$ & 6.6704$^{***}$ \\\\\n",
            "  & & (1.0776) & (1.0821) \\\\\n",
            " nblock & & 0.0005$^{***}$ & 0.0005$^{***}$ \\\\\n",
            "  & & (0.0000) & (0.0000) \\\\\n",
            " size & & & -0.0001$^{***}$ \\\\\n",
            "  & & & (0.0000) \\\\\n",
            " ROI & & & -63.4699$^{}$ \\\\\n",
            "  & & & (343.9860) \\\\\n",
            " volatility90 & & & 3094.3442$^{***}$ \\\\\n",
            "  & & & (89.8447) \\\\\n",
            " Intercept & 39.4370$^{***}$ & 55.5752$^{***}$ & 47.2638$^{***}$ \\\\\n",
            "  & (0.2492) & (0.3986) & (0.7177) \\\\\n",
            "\\hline \\\\[-1.8ex]\n",
            " Observations & 138,043 & 138,043 & 137,769 \\\\\n",
            " $R^2$ & 0.0233 & 0.0429 & 0.0581 \\\\\n",
            " Adjusted $R^2$ & 0.0232 & 0.0429 & 0.0580 \\\\\n",
            " Residual Std. Error & 65.5373(df = 138041) & 64.8760(df = 138039) & 64.4139(df = 137762)  \\\\\n",
            " F Statistic & 3286.5285$^{***}$ (df = 1.0; 138041.0) & 2061.3826$^{***}$ (df = 3.0; 138039.0) & 1415.6816$^{***}$ (df = 6.0; 137762.0) \\\\\n",
            "\\hline\n",
            "\\hline \\\\[-1.8ex]\n",
            "\\textit{Note:} & \\multicolumn{3}{r}{$^{*}$p$<$0.1; $^{**}$p$<$0.05; $^{***}$p$<$0.01} \\\\\n",
            "\\end{tabular}\n",
            "\\end{table}\n"
          ]
        }
      ]
    },
    {
      "cell_type": "code",
      "metadata": {
        "id": "WZgn3E6GhDgw"
      },
      "source": [
        "hours = [0]*24\n",
        "for i in range(24):\n",
        "  a = \"hour\" + str(i)\n",
        "  hours[i] = a"
      ],
      "execution_count": null,
      "outputs": []
    },
    {
      "cell_type": "code",
      "metadata": {
        "colab": {
          "base_uri": "https://localhost:8080/"
        },
        "id": "Yu8OVypuYlRS",
        "outputId": "c0d9311f-8521-48c0-c018-f3fb286f3dd0"
      },
      "source": [
        "df3_gpq50_melted = pd.melt(df3, id_vars=['adoption', 'nblock','size','ROI','volatility30','volatility90','volatility180']+hours, value_vars=[\"legacy_gpq50\", \"eip_gpq50\"], var_name=\"Type\", value_name=\"gpq50\")\n",
        "df3_gpq50_melted['eip']=df3_gpq50_melted[\"Type\"].apply(lambda x: 1 if x==\"eip_gpq50\" else 0)\n",
        "gpq50mean = df3_gpq50_melted.groupby([\"nblock\"])[\"gpq50\"].mean().reset_index().rename(columns = {\"gpq50\": \"gpq50mean\"})\n",
        "df3_gpq50_melted = pd.merge(df3_gpq50_melted, gpq50mean, how = \"left\", on = \"nblock\")\n",
        "df3_gpq50_melted[\"gpq50_normalized\"] = df3_gpq50_melted[\"gpq50\"] - df3_gpq50_melted[\"gpq50mean\"]\n",
        "\n",
        "results1_did_q50 = smf.ols('gpq50 ~ 1+ eip + nblock + adoption'+ hourfe, data=df3_gpq50_melted).fit()\n",
        "results2_did_q50 = smf.ols('gpq50 ~ 1+ eip + nblock + adoption + size + ROI+ volatility90'+ hourfe, data=df3_gpq50_melted).fit()\n",
        "results3_did_q50 = smf.ols('gpq50_normalized ~ 1+ eip', data=df3_gpq50_melted).fit()\n",
        "stargazer = Stargazer([results1_did_q50 ,results2_did_q50, results3_did_q50])\n",
        "stargazer.title('Intrablock Gas Price Difference & Adoption Rate')\n",
        "stargazer.covariate_order(['eip',  'nblock', 'adoption',  'volatility90', 'size', 'ROI', 'Intercept'])\n",
        "stargazer.significant_digits(5)\n",
        "HTML(stargazer.render_html())\n",
        "print(stargazer.render_latex())"
      ],
      "execution_count": null,
      "outputs": [
        {
          "name": "stdout",
          "output_type": "stream",
          "text": [
            "\\begin{table}[!htbp] \\centering\n",
            "  \\caption{Intrablock Gas Price Difference & Adoption Rate}\n",
            "\\begin{tabular}{@{\\extracolsep{5pt}}lccc}\n",
            "\\\\[-1.8ex]\\hline\n",
            "\\hline \\\\[-1.8ex]\n",
            "\\\\[-1.8ex] & (1) & (2) & (3) \\\\\n",
            "\\hline \\\\[-1.8ex]\n",
            " eip & -11.00459$^{***}$ & -11.01356$^{***}$ & -10.83807$^{***}$ \\\\\n",
            "  & (0.29886) & (0.29694) & (0.15988) \\\\\n",
            " nblock & 0.00087$^{***}$ & 0.00093$^{***}$ & \\\\\n",
            "  & (0.00001) & (0.00001) & \\\\\n",
            " adoption & -4.40374$^{***}$ & 0.12530$^{}$ & \\\\\n",
            "  & (0.71369) & (0.71746) & \\\\\n",
            " volatility90 & & 3933.12687$^{***}$ & \\\\\n",
            "  & & (99.88466) & \\\\\n",
            " size & & -0.00004$^{***}$ & \\\\\n",
            "  & & (0.00000) & \\\\\n",
            " ROI & & -239.97575$^{}$ & \\\\\n",
            "  & & (330.82715) & \\\\\n",
            " Intercept & 30.51834$^{***}$ & 5.38495$^{***}$ & 5.24094$^{***}$ \\\\\n",
            "  & (0.81693) & (1.08557) & (0.11118) \\\\\n",
            "\\hline \\\\[-1.8ex]\n",
            " Observations & 133,394 & 133,394 & 133,394 \\\\\n",
            " $R^2$ & 0.18269 & 0.19348 & 0.03330 \\\\\n",
            " Adjusted $R^2$ & 0.18254 & 0.19331 & 0.03330 \\\\\n",
            " Residual Std. Error & 54.42487(df = 133367) & 54.06513(df = 133364) & 29.18054(df = 133392)  \\\\\n",
            " F Statistic & 1146.61184$^{***}$ (df = 26.0; 133367.0) & 1103.23025$^{***}$ (df = 29.0; 133364.0) & 4595.41207$^{***}$ (df = 1.0; 133392.0) \\\\\n",
            "\\hline\n",
            "\\hline \\\\[-1.8ex]\n",
            "\\textit{Note:} & \\multicolumn{3}{r}{$^{*}$p$<$0.1; $^{**}$p$<$0.05; $^{***}$p$<$0.01} \\\\\n",
            "\\end{tabular}\n",
            "\\end{table}\n"
          ]
        }
      ]
    },
    {
      "cell_type": "markdown",
      "metadata": {
        "id": "A1rBTeOyNCQh"
      },
      "source": [
        "## Intra-Block Difference"
      ]
    },
    {
      "cell_type": "code",
      "metadata": {
        "colab": {
          "base_uri": "https://localhost:8080/",
          "height": 879
        },
        "id": "rVXJ25ApM__j",
        "outputId": "e8a2b026-8f05-48f2-8fef-9e16021d8f15"
      },
      "source": [
        "# Original Table in Paper\n",
        "df_iqdiff = df_13[df_13[\"all_gpq50\"] > 1]\n",
        "df_iqdiff[df_iqdiff[\"normalized_iqdiff\"] < 3] = 3\n",
        "#df_iqdiff = df_iqdiff[df_iqdiff[\"normalized_iqdiff\"] < 3]\n",
        "results1 = smf.ols('normalized_iqdiff ~ 1 + EIP' + hourfe, data = df_iqdiff).fit()\n",
        "results2 = smf.ols('normalized_iqdiff ~ 1 + EIP + adoption + nblock' + hourfe, data = df_iqdiff).fit()\n",
        "results3 = smf.ols('normalized_iqdiff ~ 1 + EIP + adoption + nblock + all_gpq50 + volatility90' + hourfe, data = df_iqdiff).fit()\n",
        "results4 = smf.ols('normalized_iqdiff ~ 1 + EIP + adoption + nblock + all_gpq50 + volatility90 + size + ROI' + hourfe, data = df_iqdiff).fit()\n",
        "stargazer = Stargazer([results1 ,results2, results3, results4])\n",
        "stargazer.title('Intrablock Gas Price Difference & Adoption Rate')\n",
        "stargazer.covariate_order(['EIP', 'adoption', 'nblock', 'all_gpq50', 'volatility90', 'size', 'ROI', 'Intercept'])\n",
        "stargazer.significant_digits(5)\n",
        "HTML(stargazer.render_html())\n",
        "#print(stargazer.render_latex())"
      ],
      "execution_count": null,
      "outputs": [
        {
          "name": "stderr",
          "output_type": "stream",
          "text": [
            "/usr/local/lib/python3.7/dist-packages/ipykernel_launcher.py:3: SettingWithCopyWarning:\n",
            "\n",
            "\n",
            "A value is trying to be set on a copy of a slice from a DataFrame.\n",
            "Try using .loc[row_indexer,col_indexer] = value instead\n",
            "\n",
            "See the caveats in the documentation: https://pandas.pydata.org/pandas-docs/stable/user_guide/indexing.html#returning-a-view-versus-a-copy\n",
            "\n",
            "/usr/local/lib/python3.7/dist-packages/pandas/core/indexing.py:1763: SettingWithCopyWarning:\n",
            "\n",
            "\n",
            "A value is trying to be set on a copy of a slice from a DataFrame.\n",
            "Try using .loc[row_indexer,col_indexer] = value instead\n",
            "\n",
            "See the caveats in the documentation: https://pandas.pydata.org/pandas-docs/stable/user_guide/indexing.html#returning-a-view-versus-a-copy\n",
            "\n"
          ]
        },
        {
          "data": {
            "text/html": [
              "Intrablock Gas Price Difference & Adoption Rate<br><table style=\"text-align:center\"><tr><td colspan=\"5\" style=\"border-bottom: 1px solid black\"></td></tr><tr><td style=\"text-align:left\"></td><td colspan=\"4\"><em>Dependent variable:normalized_iqdiff</em></td></tr><tr><td style=\"text-align:left\"></td><tr><td style=\"text-align:left\"></td><td>(1)</td><td>(2)</td><td>(3)</td><td>(4)</td></tr><tr><td colspan=\"5\" style=\"border-bottom: 1px solid black\"></td></tr><tr><td style=\"text-align:left\">EIP</td><td>-4.31553<sup>***</sup></td><td>3.64479<sup>***</sup></td><td>-6.86251<sup>***</sup></td><td>-7.98973<sup>***</sup></td></tr><tr><td style=\"text-align:left\"></td><td>(0.07821)</td><td>(0.15462)</td><td>(0.25571)</td><td>(0.24686)</td></tr><tr><td style=\"text-align:left\">adoption</td><td></td><td>-4.75735<sup>***</sup></td><td>-4.52511<sup>***</sup></td><td>-8.49838<sup>***</sup></td></tr><tr><td style=\"text-align:left\"></td><td></td><td>(0.25768)</td><td>(0.25153)</td><td>(0.24374)</td></tr><tr><td style=\"text-align:left\">nblock</td><td></td><td>-0.00009<sup>***</sup></td><td>0.00008<sup>***</sup></td><td>0.00008<sup>***</sup></td></tr><tr><td style=\"text-align:left\"></td><td></td><td>(0.00000)</td><td>(0.00000)</td><td>(0.00000)</td></tr><tr><td style=\"text-align:left\">all_gpq50</td><td></td><td></td><td>-0.03045<sup>***</sup></td><td>-0.03355<sup>***</sup></td></tr><tr><td style=\"text-align:left\"></td><td></td><td></td><td>(0.00040)</td><td>(0.00039)</td></tr><tr><td style=\"text-align:left\">volatility90</td><td></td><td></td><td>1678.63418<sup>***</sup></td><td>2757.79426<sup>***</sup></td></tr><tr><td style=\"text-align:left\"></td><td></td><td></td><td>(27.55336)</td><td>(28.40882)</td></tr><tr><td style=\"text-align:left\">size</td><td></td><td></td><td></td><td>-0.00007<sup>***</sup></td></tr><tr><td style=\"text-align:left\"></td><td></td><td></td><td></td><td>(0.00000)</td></tr><tr><td style=\"text-align:left\">ROI</td><td></td><td></td><td></td><td>-506.87504<sup>***</sup></td></tr><tr><td style=\"text-align:left\"></td><td></td><td></td><td></td><td>(53.31635)</td></tr><tr><td style=\"text-align:left\">Intercept</td><td>0.00059<sup></sup></td><td>0.00009<sup></sup></td><td>0.00005<sup></sup></td><td>0.00007<sup></sup></td></tr><tr><td style=\"text-align:left\"></td><td>(0.00058)</td><td>(0.00056)</td><td>(0.00055)</td><td>(0.00053)</td></tr><td colspan=\"5\" style=\"border-bottom: 1px solid black\"></td></tr><tr><td style=\"text-align: left\">Observations</td><td>135,215</td><td>135,215</td><td>135,215</td><td>135,215</td></tr><tr><td style=\"text-align: left\">R<sup>2</sup></td><td>0.99999</td><td>0.99999</td><td>0.99999</td><td>0.99999</td></tr><tr><td style=\"text-align: left\">Adjusted R<sup>2</sup></td><td>0.99999</td><td>0.99999</td><td>0.99999</td><td>0.99999</td></tr><tr><td style=\"text-align: left\">Residual Std. Error</td><td>0.20725 (df=135196)</td><td>0.20087 (df=135194)</td><td>0.19556 (df=135192)</td><td>0.18738 (df=135190)</td></tr><tr><td style=\"text-align: left\">F Statistic</td><td>635520297.26030<sup>***</sup> (df=18; 135196)</td><td>608859899.37179<sup>***</sup> (df=20; 135194)</td><td>584015886.21613<sup>***</sup> (df=22; 135192)</td><td>583104609.68361<sup>***</sup> (df=24; 135190)</td></tr><tr><td colspan=\"5\" style=\"border-bottom: 1px solid black\"></td></tr><tr><td style=\"text-align: left\">Note:</td>\n",
              " <td colspan=\"4\" style=\"text-align: right\">\n",
              "  <sup>*</sup>p&lt;0.1;\n",
              "  <sup>**</sup>p&lt;0.05;\n",
              "  <sup>***</sup>p&lt;0.01\n",
              " </td></tr></table>"
            ],
            "text/plain": [
              "<IPython.core.display.HTML object>"
            ]
          },
          "execution_count": 35,
          "metadata": {},
          "output_type": "execute_result"
        }
      ]
    },
    {
      "cell_type": "code",
      "metadata": {
        "colab": {
          "base_uri": "https://localhost:8080/",
          "height": 594
        },
        "id": "nTT8yAmEKTz2",
        "outputId": "f168484c-5b1b-45a8-ea79-ae0be321fffe"
      },
      "source": [
        "# Robustness check with unstandardized inter-quartile difference\n",
        "df_iqdiff = df_13[df_13[\"iqdiff\"] < 100]\n",
        "results1 = smf.ols('iqdiff ~ 1 + EIP' + hourfe, data = df_iqdiff).fit()\n",
        "results2 = smf.ols('iqdiff ~ 1 + EIP + adoption + nblock' + hourfe, data = df_iqdiff).fit()\n",
        "results3 = smf.ols('iqdiff ~ 1 + EIP + adoption + nblock + all_gpq50 + volatility90' + hourfe, data = df_iqdiff).fit()\n",
        "results4 = smf.ols('iqdiff ~ 1 + EIP + adoption + nblock + all_gpq50 + volatility90 + size + ROI' + hourfe, data = df_iqdiff).fit()\n",
        "stargazer = Stargazer([results1 ,results2, results3, results4])\n",
        "stargazer.title('Intrablock Gas Price Difference & Adoption Rate')\n",
        "stargazer.covariate_order(['EIP', 'adoption', 'nblock', 'all_gpq50', 'volatility90', 'size', 'ROI', 'Intercept'])\n",
        "stargazer.significant_digits(5)\n",
        "HTML(stargazer.render_html())\n",
        "#print(stargazer.render_latex())"
      ],
      "execution_count": null,
      "outputs": [
        {
          "data": {
            "text/html": [
              "Intrablock Gas Price Difference & Adoption Rate<br><table style=\"text-align:center\"><tr><td colspan=\"5\" style=\"border-bottom: 1px solid black\"></td></tr><tr><td style=\"text-align:left\"></td><td colspan=\"4\"><em>Dependent variable:iqdiff</em></td></tr><tr><td style=\"text-align:left\"></td><tr><td style=\"text-align:left\"></td><td>(1)</td><td>(2)</td><td>(3)</td><td>(4)</td></tr><tr><td colspan=\"5\" style=\"border-bottom: 1px solid black\"></td></tr><tr><td style=\"text-align:left\">EIP</td><td>3.18875<sup>***</sup></td><td>2.25948<sup>***</sup></td><td>3.09493<sup>***</sup></td><td>3.22379<sup>***</sup></td></tr><tr><td style=\"text-align:left\"></td><td>(0.05992)</td><td>(0.12306)</td><td>(0.11739)</td><td>(0.11789)</td></tr><tr><td style=\"text-align:left\">adoption</td><td></td><td>-17.34851<sup>***</sup></td><td>-16.53413<sup>***</sup></td><td>-16.82489<sup>***</sup></td></tr><tr><td style=\"text-align:left\"></td><td></td><td>(0.17389)</td><td>(0.16608)</td><td>(0.16800)</td></tr><tr><td style=\"text-align:left\">nblock</td><td></td><td>0.00012<sup>***</sup></td><td>0.00008<sup>***</sup></td><td>0.00008<sup>***</sup></td></tr><tr><td style=\"text-align:left\"></td><td></td><td>(0.00000)</td><td>(0.00000)</td><td>(0.00000)</td></tr><tr><td style=\"text-align:left\">all_gpq50</td><td></td><td></td><td>0.07360<sup>***</sup></td><td>0.07423<sup>***</sup></td></tr><tr><td style=\"text-align:left\"></td><td></td><td></td><td>(0.00067)</td><td>(0.00067)</td></tr><tr><td style=\"text-align:left\">volatility90</td><td></td><td></td><td>308.74814<sup>***</sup></td><td>301.56456<sup>***</sup></td></tr><tr><td style=\"text-align:left\"></td><td></td><td></td><td>(14.98150)</td><td>(14.98809)</td></tr><tr><td style=\"text-align:left\">size</td><td></td><td></td><td></td><td>0.00001<sup>***</sup></td></tr><tr><td style=\"text-align:left\"></td><td></td><td></td><td></td><td>(0.00000)</td></tr><tr><td style=\"text-align:left\">ROI</td><td></td><td></td><td></td><td>95.21589<sup>*</sup></td></tr><tr><td style=\"text-align:left\"></td><td></td><td></td><td></td><td>(52.19332)</td></tr><tr><td style=\"text-align:left\">Intercept</td><td>9.11493<sup>***</sup></td><td>13.30652<sup>***</sup></td><td>7.12408<sup>***</sup></td><td>6.61056<sup>***</sup></td></tr><tr><td style=\"text-align:left\"></td><td>(0.14995)</td><td>(0.15104)</td><td>(0.18006)</td><td>(0.18568)</td></tr><td colspan=\"5\" style=\"border-bottom: 1px solid black\"></td></tr><tr><td style=\"text-align: left\">Observations</td><td>126,485</td><td>126,485</td><td>126,485</td><td>126,484</td></tr><tr><td style=\"text-align: left\">R<sup>2</sup></td><td>0.05334</td><td>0.14237</td><td>0.22347</td><td>0.22426</td></tr><tr><td style=\"text-align: left\">Adjusted R<sup>2</sup></td><td>0.05316</td><td>0.14219</td><td>0.22330</td><td>0.22407</td></tr><tr><td style=\"text-align: left\">Residual Std. Error</td><td>10.64352 (df=126460)</td><td>10.13075 (df=126458)</td><td>9.63993 (df=126456)</td><td>9.63513 (df=126453)</td></tr><tr><td style=\"text-align: left\">F Statistic</td><td>296.88866<sup>***</sup> (df=24; 126460)</td><td>807.40510<sup>***</sup> (df=26; 126458)</td><td>1299.70451<sup>***</sup> (df=28; 126456)</td><td>1218.54200<sup>***</sup> (df=30; 126453)</td></tr><tr><td colspan=\"5\" style=\"border-bottom: 1px solid black\"></td></tr><tr><td style=\"text-align: left\">Note:</td>\n",
              " <td colspan=\"4\" style=\"text-align: right\">\n",
              "  <sup>*</sup>p&lt;0.1;\n",
              "  <sup>**</sup>p&lt;0.05;\n",
              "  <sup>***</sup>p&lt;0.01\n",
              " </td></tr></table>"
            ],
            "text/plain": [
              "<IPython.core.display.HTML object>"
            ]
          },
          "execution_count": 63,
          "metadata": {},
          "output_type": "execute_result"
        }
      ]
    },
    {
      "cell_type": "code",
      "metadata": {
        "colab": {
          "base_uri": "https://localhost:8080/"
        },
        "id": "-u8A5qJG-TDN",
        "outputId": "e9b8cc00-8ad5-4f66-af8d-3a42c35b53ff"
      },
      "source": [
        "# Robustness check with different volatility estimates\n",
        "df_iqdiff = df_13[df_13[\"all_gpq50\"] > 1]\n",
        "df_iqdiff = df_iqdiff[df_iqdiff[\"normalized_iqdiff\"] < 3]\n",
        "results1 = smf.ols('normalized_iqdiff ~ 1 + EIP + adoption + nblock + all_gpq50 + volatility30 + size + ROI' + hourfe, data = df_iqdiff).fit()\n",
        "results2 = smf.ols('normalized_iqdiff ~ 1 + EIP + adoption + nblock + all_gpq50 + volatility90 + size + ROI' + hourfe, data = df_iqdiff).fit()\n",
        "results3 = smf.ols('normalized_iqdiff ~ 1 + EIP + adoption + nblock + all_gpq50 + volatility180 + size + ROI' + hourfe, data = df_iqdiff).fit()\n",
        "stargazer = Stargazer([results1 ,results2, results3])\n",
        "stargazer.title('Intrablock Gas Price Difference & Adoption Rate')\n",
        "stargazer.covariate_order(['EIP', 'adoption', 'nblock', 'all_gpq50', 'volatility30', 'volatility90', 'volatility180', 'size', 'ROI', 'Intercept'])\n",
        "stargazer.significant_digits(5)\n",
        "HTML(stargazer.render_html())\n",
        "print(stargazer.render_latex())"
      ],
      "execution_count": null,
      "outputs": [
        {
          "name": "stdout",
          "output_type": "stream",
          "text": [
            "\\begin{table}[!htbp] \\centering\n",
            "  \\caption{Intrablock Gas Price Difference & Adoption Rate}\n",
            "\\begin{tabular}{@{\\extracolsep{5pt}}lccc}\n",
            "\\\\[-1.8ex]\\hline\n",
            "\\hline \\\\[-1.8ex]\n",
            "& \\multicolumn{3}{c}{\\textit{Dependent variable:}} \\\n",
            "\\cr \\cline{3-4}\n",
            "\\\\[-1.8ex] & (1) & (2) & (3) \\\\\n",
            "\\hline \\\\[-1.8ex]\n",
            " EIP & 0.08622$^{***}$ & 0.08603$^{***}$ & 0.08590$^{***}$ \\\\\n",
            "  & (0.00260) & (0.00260) & (0.00260) \\\\\n",
            " adoption & -0.24707$^{***}$ & -0.24573$^{***}$ & -0.24471$^{***}$ \\\\\n",
            "  & (0.00374) & (0.00374) & (0.00375) \\\\\n",
            " nblock & -0.00000$^{***}$ & -0.00000$^{***}$ & -0.00000$^{***}$ \\\\\n",
            "  & (0.00000) & (0.00000) & (0.00000) \\\\\n",
            " all_gpq50 & -0.00001$^{}$ & -0.00001$^{}$ & -0.00001$^{}$ \\\\\n",
            "  & (0.00001) & (0.00001) & (0.00001) \\\\\n",
            " volatility30 & -4.12185$^{***}$ & & \\\\\n",
            "  & (0.38035) & & \\\\\n",
            " volatility90 & & -1.75653$^{***}$ & \\\\\n",
            "  & & (0.33043) & \\\\\n",
            " volatility180 & & & -0.48006$^{**}$ \\\\\n",
            "  & & & (0.21847) \\\\\n",
            " size & 0.00000$^{***}$ & 0.00000$^{***}$ & 0.00000$^{***}$ \\\\\n",
            "  & (0.00000) & (0.00000) & (0.00000) \\\\\n",
            " ROI & 1.43331$^{}$ & 1.44643$^{}$ & 1.45417$^{}$ \\\\\n",
            "  & (1.18338) & (1.18377) & (1.18388) \\\\\n",
            " Intercept & 0.27417$^{***}$ & 0.26412$^{***}$ & 0.25721$^{***}$ \\\\\n",
            "  & (0.00400) & (0.00413) & (0.00421) \\\\\n",
            "\\hline \\\\[-1.8ex]\n",
            " Observations & 135,756 & 135,756 & 135,756 \\\\\n",
            " $R^2$ & 0.04573 & 0.04510 & 0.04493 \\\\\n",
            " Adjusted $R^2$ & 0.04551 & 0.04489 & 0.04472 \\\\\n",
            " Residual Std. Error & 0.22146(df = 135725) & 0.22153(df = 135725) & 0.22155(df = 135725)  \\\\\n",
            " F Statistic & 216.78221$^{***}$ (df = 30.0; 135725.0) & 213.66979$^{***}$ (df = 30.0; 135725.0) & 212.85209$^{***}$ (df = 30.0; 135725.0) \\\\\n",
            "\\hline\n",
            "\\hline \\\\[-1.8ex]\n",
            "\\textit{Note:} & \\multicolumn{3}{r}{$^{*}$p$<$0.1; $^{**}$p$<$0.05; $^{***}$p$<$0.01} \\\\\n",
            "\\end{tabular}\n",
            "\\end{table}\n"
          ]
        }
      ]
    },
    {
      "cell_type": "markdown",
      "metadata": {
        "id": "5bbDCPgeNAmN"
      },
      "source": [
        "## Waiting Time"
      ]
    },
    {
      "cell_type": "code",
      "metadata": {
        "id": "q-X9ZzwlJigI"
      },
      "source": [
        "# Original Table\n",
        "df_wt = df_13.reset_index(drop = True)\n",
        "df_wt[df_wt[\"all_wtq50\"] < 0] = 0\n",
        "df_wt[df_wt[\"legacy_wtq50\"] < 0] = 0\n",
        "df_wt[df_wt[\"all_wtq50\"] > 300] = 300\n",
        "df_wt[df_wt[\"legacy_wtq50\"] > 300] = 300\n",
        "results1 = smf.ols('all_wtq50 ~ 1 + EIP + adoption + nblock' + hourfe, data = df_wt).fit()\n",
        "results2 = smf.ols('all_wtq50 ~ 1 + EIP + adoption + nblock + all_gpq50 + volatility90' + hourfe, data = df_wt).fit()\n",
        "results3 = smf.ols('all_wtq50 ~ 1 + EIP + adoption + nblock + all_gpq50 + volatility90 + size + ROI' + hourfe, data = df_wt).fit()\n",
        "results4 = smf.ols('legacy_wtq50 ~ 1 + EIP + adoption + nblock' + hourfe, data = df_wt).fit()\n",
        "results5 = smf.ols('legacy_wtq50 ~ 1 + EIP + adoption + nblock + all_gpq50 + volatility90 + size + ROI' + hourfe, data = df_wt).fit()\n",
        "stargazer = Stargazer([results1 ,results2, results3, results4, results5])\n",
        "stargazer.title('Ethereum Median Waiting Time and EIP-1559 Adoption')\n",
        "stargazer.covariate_order(['EIP', 'adoption', 'nblock', 'all_gpq50', 'volatility90', 'size', 'ROI', 'Intercept'])\n",
        "stargazer.significant_digits(3)\n",
        "HTML(stargazer.render_html())\n",
        "print(stargazer.render_latex())"
      ],
      "execution_count": null,
      "outputs": []
    },
    {
      "cell_type": "code",
      "metadata": {
        "colab": {
          "base_uri": "https://localhost:8080/"
        },
        "id": "B3XF0a4xlK4O",
        "outputId": "b7e68320-c025-4299-d4c8-6fc9a9047406"
      },
      "source": [
        "df3_wtq50_melted = pd.melt(df3, id_vars=['adoption', 'nblock','size','ROI','volatility30','volatility90','volatility180']+hours, value_vars=[\"legacy_wtq50\", \"eip_wtq50\"], var_name=\"Type\", value_name=\"wtq50\")\n",
        "df3_wtq50_melted['eip']=df3_wtq50_melted[\"Type\"].apply(lambda x: 1 if x==\"eip_wtq50\" else 0)\n",
        "df3_wtq50_melted[df3_wtq50_melted[\"wtq50\"] < 0] = 0\n",
        "df3_wtq50_melted[df3_wtq50_melted[\"wtq50\"] > 300] = 300\n",
        "wtq50mean = df3_wtq50_melted.groupby([\"nblock\"])[\"wtq50\"].mean().reset_index().rename(columns = {\"wtq50\": \"wtq50mean\"})\n",
        "df3_wtq50_melted = pd.merge(df3_wtq50_melted, wtq50mean, how = \"left\", on = \"nblock\")\n",
        "df3_wtq50_melted[\"wtq50_normalized\"] = df3_wtq50_melted[\"wtq50\"] - df3_wtq50_melted[\"wtq50mean\"]\n",
        "\n",
        "results1_did_q50 = smf.ols('wtq50 ~ 1+ eip + nblock + adoption'+ hourfe, data=df3_wtq50_melted).fit()\n",
        "results2_did_q50 = smf.ols('wtq50 ~ 1+ eip + nblock + adoption + size + ROI+ volatility90'+ hourfe, data=df3_wtq50_melted).fit()\n",
        "results3_did_q50 = smf.ols('wtq50_normalized ~ 1+ eip', data=df3_wtq50_melted).fit()\n",
        "stargazer = Stargazer([results1_did_q50 ,results2_did_q50, results3_did_q50])\n",
        "stargazer.title('Intrablock Gas Price Difference & Adoption Rate')\n",
        "stargazer.covariate_order(['eip',  'nblock', 'adoption',  'volatility90', 'size', 'ROI', 'Intercept'])\n",
        "stargazer.significant_digits(5)\n",
        "HTML(stargazer.render_html())\n",
        "print(stargazer.render_latex())"
      ],
      "execution_count": null,
      "outputs": [
        {
          "name": "stdout",
          "output_type": "stream",
          "text": [
            "\\begin{table}[!htbp] \\centering\n",
            "  \\caption{Intrablock Gas Price Difference & Adoption Rate}\n",
            "\\begin{tabular}{@{\\extracolsep{5pt}}lccc}\n",
            "\\\\[-1.8ex]\\hline\n",
            "\\hline \\\\[-1.8ex]\n",
            "\\\\[-1.8ex] & (1) & (2) & (3) \\\\\n",
            "\\hline \\\\[-1.8ex]\n",
            " eip & -0.49933$^{***}$ & -1.14876$^{***}$ & 0.00059$^{}$ \\\\\n",
            "  & (0.13514) & (0.12950) & (0.00088) \\\\\n",
            " nblock & 0.00005$^{***}$ & 0.00001$^{**}$ & \\\\\n",
            "  & (0.00000) & (0.00000) & \\\\\n",
            " adoption & -3.83371$^{***}$ & -9.74894$^{***}$ & \\\\\n",
            "  & (0.30980) & (0.30025) & \\\\\n",
            " volatility90 & & 59.16974$^{}$ & \\\\\n",
            "  & & (37.05756) & \\\\\n",
            " size & & 0.00013$^{***}$ & \\\\\n",
            "  & & (0.00000) & \\\\\n",
            " ROI & & -125.41390$^{***}$ & \\\\\n",
            "  & & (36.26787) & \\\\\n",
            " Intercept & 14.76364$^{***}$ & 5.37660$^{***}$ & -0.00345$^{}$ \\\\\n",
            "  & (0.15423) & (0.30356) & (0.03561) \\\\\n",
            "\\hline \\\\[-1.8ex]\n",
            " Observations & 137,780 & 137,780 & 140,000 \\\\\n",
            " $R^2$ & 0.70541 & 0.73170 & 0.00000 \\\\\n",
            " Adjusted $R^2$ & 0.70535 & 0.73165 & -0.00000 \\\\\n",
            " Residual Std. Error & 24.75174(df = 137753) & 23.62149(df = 137750) & 13.18300(df = 139998)  \\\\\n",
            " F Statistic & 12686.60140$^{***}$ (df = 26.0; 137753.0) & 12954.25072$^{***}$ (df = 29.0; 137750.0) & 0.44114$^{}$ (df = 1.0; 139998.0) \\\\\n",
            "\\hline\n",
            "\\hline \\\\[-1.8ex]\n",
            "\\textit{Note:} & \\multicolumn{3}{r}{$^{*}$p$<$0.1; $^{**}$p$<$0.05; $^{***}$p$<$0.01} \\\\\n",
            "\\end{tabular}\n",
            "\\end{table}\n"
          ]
        }
      ]
    },
    {
      "cell_type": "code",
      "metadata": {
        "id": "dPk61xAyE0pz"
      },
      "source": [
        "# Robustness check with LAD regressions\n",
        "df_wt = df_13.reset_index(drop = True)\n",
        "df_wt[df_wt[\"all_wtq50\"] < 0] = 0\n",
        "results1 = smf.quantreg('all_wtq50 ~ 1 + EIP' + hourfe, data = df_iqdiff).fit(q = 0.5)\n",
        "results2 = smf.quantreg('all_wtq50 ~ 1 + EIP + adoption + nblock' + hourfe, data = df_iqdiff).fit(q = 0.5)\n",
        "results3 = smf.quantreg('all_wtq50 ~ 1 + EIP + adoption + nblock + all_gpq50 + volatility90' + hourfe, data = df_iqdiff).fit(q = 0.5)\n",
        "results4 = smf.quantreg('all_wtq50 ~ 1 + EIP + adoption + nblock + all_gpq50 + volatility90 + size + ROI' + hourfe, data = df_iqdiff).fit(q = 0.5)\n",
        "stargazer = Stargazer([results1 ,results2, results3, results4])\n",
        "stargazer.title('Waiting time & EIP-1559 adoption')\n",
        "stargazer.covariate_order(['EIP', 'adoption', 'nblock', 'all_gpq50', 'volatility90', 'size', 'ROI', 'Intercept'])\n",
        "stargazer.significant_digits(5)\n",
        "HTML(stargazer.render_html())\n",
        "print(stargazer.render_latex())"
      ],
      "execution_count": null,
      "outputs": []
    },
    {
      "cell_type": "code",
      "metadata": {
        "id": "kcvUFUCHojUp"
      },
      "source": [
        "# All transactions waiting time\n",
        "results1 = smf.quantreg('all_wtq50 ~ 1 + EIP + adoption + all_gpq50 + volatility', data = df_13).fit(q=0.5)\n",
        "# EIP transactions waiting time\n",
        "results2 = smf.quantreg('all_wtq50 ~ 1 + EIP + all_gpq50 + volatility', data = df_13).fit(q=0.5)\n",
        "# Legacy transactions waiting time\n",
        "results3 = smf.quantreg('legacy_wtq50 ~ 1 + adoption + all_gpq50 + legacy_gpq50 + volatility', data = df3).fit(q=0.5)\n",
        "# EIP transactions waiting time\n",
        "results4 = smf.quantreg('legacy_wtq50 ~ 1 + adoption + all_gpq50 + eip_gpq50 + volatility', data = df3).fit(q=0.5)\n",
        "stargazer = Stargazer([results1 ,results2, results3, results4])\n",
        "stargazer.title('Waiting Time & Adoption Rate')\n",
        "stargazer.covariate_order(['EIP', 'adoption', 'volatility', 'all_gpq50', 'legacy_gpq50', 'eip_gpq50', 'Intercept'])\n",
        "stargazer.significant_digits(3)\n",
        "HTML(stargazer.render_html())\n",
        "print(stargazer.render_latex())"
      ],
      "execution_count": null,
      "outputs": []
    },
    {
      "cell_type": "markdown",
      "metadata": {
        "id": "gEMnfsRKxyiP"
      },
      "source": [
        "# Statistic Tests "
      ]
    },
    {
      "cell_type": "markdown",
      "metadata": {
        "id": "hVyEFATGoge5"
      },
      "source": [
        "## Correlation Heatmap"
      ]
    },
    {
      "cell_type": "code",
      "metadata": {
        "id": "npspluo5of0a"
      },
      "source": [
        "import seaborn as sns\n",
        "import matplotlib.pyplot as plt\n",
        "sns.set(font_scale=1.5)\n",
        "columns = ['EIP', 'adoption', 'nblock', 'size', 'gas_used', 'volatility30','volatility90','volatility180','ROI']\n",
        "df_Heatmap =df_13[columns]\n",
        "plt.figure(figsize=(18, 12))\n",
        "#triangle\n",
        "mask = np.triu(np.ones_like(df_Heatmap.corr(), dtype=np.bool))\n",
        "heatmap = sns.heatmap(df_Heatmap.corr(), mask=mask, vmin=-1, vmax=1, annot=True, cmap='YlGnBu')\n",
        "plt.savefig('/content/drive/MyDrive/EIP-1559/Code & Output/colab output/pdf/correlation heatmap.pdf')"
      ],
      "execution_count": null,
      "outputs": []
    },
    {
      "cell_type": "markdown",
      "metadata": {
        "id": "V26nC37swzdY"
      },
      "source": [
        "## The Dickey-Fuller test for stationary\n",
        "Null hypothesis: not stationary\n",
        "\n",
        "https://machinelearningmastery.com/time-series-data-stationary-python/"
      ]
    },
    {
      "cell_type": "code",
      "metadata": {
        "colab": {
          "base_uri": "https://localhost:8080/"
        },
        "id": "zLp1qrg0xIyl",
        "outputId": "6d61f4c2-ee4e-4a0b-f303-869e1de45fb0"
      },
      "source": [
        "s=df['gas_used'].dropna()\n",
        "from statsmodels.tsa.stattools import adfuller\n",
        "result = adfuller(s)\n",
        "print('ADF Statistic: %f' % result[0])\n",
        "print('p-value: %f' % result[1])\n",
        "print('Critical Values:')\n",
        "for key, value in result[4].items():\n",
        "\tprint('\\t%s: %.3f' % (key, value))"
      ],
      "execution_count": null,
      "outputs": [
        {
          "name": "stdout",
          "output_type": "stream",
          "text": [
            "ADF Statistic: -46.850743\n",
            "p-value: 0.000000\n",
            "Critical Values:\n",
            "\t1%: -3.430\n",
            "\t5%: -2.862\n",
            "\t10%: -2.567\n"
          ]
        }
      ]
    },
    {
      "cell_type": "code",
      "metadata": {
        "colab": {
          "base_uri": "https://localhost:8080/"
        },
        "id": "xF6HxGRFxUcJ",
        "outputId": "9904acc1-ff64-4b7b-b064-3b3c8b98123f"
      },
      "source": [
        "s=df3['base_fee'].dropna()\n",
        "from statsmodels.tsa.stattools import adfuller\n",
        "result = adfuller(s)\n",
        "print('ADF Statistic: %f' % result[0])\n",
        "print('p-value: %f' % result[1])\n",
        "print('Critical Values:')\n",
        "for key, value in result[4].items():\n",
        "\tprint('\\t%s: %.3f' % (key, value))"
      ],
      "execution_count": null,
      "outputs": [
        {
          "name": "stdout",
          "output_type": "stream",
          "text": [
            "ADF Statistic: -13.514776\n",
            "p-value: 0.000000\n",
            "Critical Values:\n",
            "\t1%: -3.430\n",
            "\t5%: -2.862\n",
            "\t10%: -2.567\n"
          ]
        }
      ]
    },
    {
      "cell_type": "code",
      "metadata": {
        "colab": {
          "base_uri": "https://localhost:8080/"
        },
        "id": "w5ya4bKwxosI",
        "outputId": "950028eb-d8ac-444a-8973-b25507979fbc"
      },
      "source": [
        "s=df3['adoption'].dropna()\n",
        "from statsmodels.tsa.stattools import adfuller\n",
        "result = adfuller(s)\n",
        "print('ADF Statistic: %f' % result[0])\n",
        "print('p-value: %f' % result[1])\n",
        "print('Critical Values:')\n",
        "for key, value in result[4].items():\n",
        "\tprint('\\t%s: %.3f' % (key, value))"
      ],
      "execution_count": null,
      "outputs": [
        {
          "name": "stdout",
          "output_type": "stream",
          "text": [
            "ADF Statistic: -7.578229\n",
            "p-value: 0.000000\n",
            "Critical Values:\n",
            "\t1%: -3.430\n",
            "\t5%: -2.862\n",
            "\t10%: -2.567\n"
          ]
        }
      ]
    },
    {
      "cell_type": "code",
      "metadata": {
        "colab": {
          "base_uri": "https://localhost:8080/"
        },
        "id": "DmE_pcN11Ahl",
        "outputId": "b23697c5-d795-4e05-d5a6-f2e36551f26d"
      },
      "source": [
        "s=df['iqdiff'].fillna(method = \"ffill\")\n",
        "s=s[s != float(\"inf\")]\n",
        "from statsmodels.tsa.stattools import adfuller\n",
        "result = adfuller(s)\n",
        "print('ADF Statistic: %f' % result[0])\n",
        "print('p-value: %f' % result[1])\n",
        "print('Critical Values:')\n",
        "for key, value in result[4].items():\n",
        "\tprint('\\t%s: %.3f' % (key, value))"
      ],
      "execution_count": null,
      "outputs": [
        {
          "name": "stdout",
          "output_type": "stream",
          "text": [
            "ADF Statistic: -29.240991\n",
            "p-value: 0.000000\n",
            "Critical Values:\n",
            "\t1%: -3.430\n",
            "\t5%: -2.862\n",
            "\t10%: -2.567\n"
          ]
        }
      ]
    },
    {
      "cell_type": "code",
      "metadata": {
        "colab": {
          "base_uri": "https://localhost:8080/"
        },
        "id": "J1r3tdBTutJM",
        "outputId": "425e7761-77f3-4ef3-d2f0-e363af2de68c"
      },
      "source": [
        "s=df['normalized_iqdiff'].fillna(method = \"ffill\")\n",
        "s=s[s != float(\"inf\")]\n",
        "from statsmodels.tsa.stattools import adfuller\n",
        "result = adfuller(s)\n",
        "print('ADF Statistic: %f' % result[0])\n",
        "print('p-value: %f' % result[1])\n",
        "print('Critical Values:')\n",
        "for key, value in result[4].items():\n",
        "\tprint('\\t%s: %.3f' % (key, value))"
      ],
      "execution_count": null,
      "outputs": [
        {
          "name": "stdout",
          "output_type": "stream",
          "text": [
            "ADF Statistic: -34.837507\n",
            "p-value: 0.000000\n",
            "Critical Values:\n",
            "\t1%: -3.430\n",
            "\t5%: -2.862\n",
            "\t10%: -2.567\n"
          ]
        }
      ]
    },
    {
      "cell_type": "code",
      "metadata": {
        "colab": {
          "base_uri": "https://localhost:8080/"
        },
        "id": "zOPaAdTS1HQX",
        "outputId": "30e6d665-3ab3-47a1-cac1-f8975f0d5774"
      },
      "source": [
        "s=df['volatility90'].dropna()\n",
        "from statsmodels.tsa.stattools import adfuller\n",
        "result = adfuller(s)\n",
        "print('ADF Statistic: %f' % result[0])\n",
        "print('p-value: %f' % result[1])\n",
        "print('Critical Values:')\n",
        "for key, value in result[4].items():\n",
        "\tprint('\\t%s: %.3f' % (key, value))"
      ],
      "execution_count": null,
      "outputs": [
        {
          "name": "stdout",
          "output_type": "stream",
          "text": [
            "ADF Statistic: -10.993182\n",
            "p-value: 0.000000\n",
            "Critical Values:\n",
            "\t1%: -3.430\n",
            "\t5%: -2.862\n",
            "\t10%: -2.567\n"
          ]
        }
      ]
    },
    {
      "cell_type": "code",
      "metadata": {
        "colab": {
          "base_uri": "https://localhost:8080/"
        },
        "id": "sbxs9dWr1ogQ",
        "outputId": "934b2828-4d6c-4754-ae69-b7fdc46c1785"
      },
      "source": [
        "s=df['size'].dropna()\n",
        "from statsmodels.tsa.stattools import adfuller\n",
        "result = adfuller(s)\n",
        "print('ADF Statistic: %f' % result[0])\n",
        "print('p-value: %f' % result[1])\n",
        "print('Critical Values:')\n",
        "for key, value in result[4].items():\n",
        "\tprint('\\t%s: %.3f' % (key, value))"
      ],
      "execution_count": null,
      "outputs": [
        {
          "name": "stdout",
          "output_type": "stream",
          "text": [
            "ADF Statistic: -24.497425\n",
            "p-value: 0.000000\n",
            "Critical Values:\n",
            "\t1%: -3.430\n",
            "\t5%: -2.862\n",
            "\t10%: -2.567\n"
          ]
        }
      ]
    },
    {
      "cell_type": "code",
      "metadata": {
        "colab": {
          "base_uri": "https://localhost:8080/"
        },
        "id": "DFfJQ70_1uYt",
        "outputId": "04b822fa-2e60-447b-aab3-42a6e3ef6bab"
      },
      "source": [
        "s=df['gas_used'].dropna()\n",
        "from statsmodels.tsa.stattools import adfuller\n",
        "result = adfuller(s)\n",
        "print('ADF Statistic: %f' % result[0])\n",
        "print('p-value: %f' % result[1])\n",
        "print('Critical Values:')\n",
        "for key, value in result[4].items():\n",
        "\tprint('\\t%s: %.3f' % (key, value))"
      ],
      "execution_count": null,
      "outputs": [
        {
          "name": "stdout",
          "output_type": "stream",
          "text": [
            "ADF Statistic: -46.850743\n",
            "p-value: 0.000000\n",
            "Critical Values:\n",
            "\t1%: -3.430\n",
            "\t5%: -2.862\n",
            "\t10%: -2.567\n"
          ]
        }
      ]
    },
    {
      "cell_type": "code",
      "metadata": {
        "colab": {
          "base_uri": "https://localhost:8080/"
        },
        "id": "-WHMVEbH2g7e",
        "outputId": "0fcc35ab-bfcb-4214-ffb5-a8f6847e23e6"
      },
      "source": [
        "s=df['all_gpq50'].dropna()\n",
        "from statsmodels.tsa.stattools import adfuller\n",
        "result = adfuller(s)\n",
        "print('ADF Statistic: %f' % result[0])\n",
        "print('p-value: %f' % result[1])\n",
        "print('Critical Values:')\n",
        "for key, value in result[4].items():\n",
        "\tprint('\\t%s: %.3f' % (key, value))"
      ],
      "execution_count": null,
      "outputs": [
        {
          "name": "stdout",
          "output_type": "stream",
          "text": [
            "ADF Statistic: -32.920746\n",
            "p-value: 0.000000\n",
            "Critical Values:\n",
            "\t1%: -3.430\n",
            "\t5%: -2.862\n",
            "\t10%: -2.567\n"
          ]
        }
      ]
    },
    {
      "cell_type": "code",
      "metadata": {
        "colab": {
          "base_uri": "https://localhost:8080/"
        },
        "id": "85TY8f3E-0Pi",
        "outputId": "6c8a235c-78e8-48df-fb62-ed53d4bac193"
      },
      "source": [
        "s=df['all_wtq50'].dropna()\n",
        "from statsmodels.tsa.stattools import adfuller\n",
        "result = adfuller(s)\n",
        "print('ADF Statistic: %f' % result[0])\n",
        "print('p-value: %f' % result[1])\n",
        "print('Critical Values:')\n",
        "for key, value in result[4].items():\n",
        "\tprint('\\t%s: %.3f' % (key, value))"
      ],
      "execution_count": null,
      "outputs": [
        {
          "name": "stdout",
          "output_type": "stream",
          "text": [
            "ADF Statistic: -60.834474\n",
            "p-value: 0.000000\n",
            "Critical Values:\n",
            "\t1%: -3.430\n",
            "\t5%: -2.862\n",
            "\t10%: -2.567\n"
          ]
        }
      ]
    },
    {
      "cell_type": "markdown",
      "metadata": {
        "id": "0OzTWCECw2Mi"
      },
      "source": [
        "## Autocorrelation"
      ]
    },
    {
      "cell_type": "code",
      "metadata": {
        "id": "OojDYiXo_L15"
      },
      "source": [
        "from statsmodels.graphics.tsaplots import plot_acf, plot_pacf\n",
        "plt.rcParams['font.size'] = '16'\n",
        "#creating a function to plot the graph and show the test result:\n",
        "def auto_correlation(y, column, lags_plots=48, figsize=(22,8)):\n",
        "    \"Use Series as parameter\"\n",
        "    y = pd.Series(y)\n",
        "    fig = plt.figure()\n",
        "\n",
        "    ax1 = plt.subplot2grid((3, 3), (0, 0), colspan=2)\n",
        "    ax2 = plt.subplot2grid((3, 3), (1, 0))\n",
        "    ax3 = plt.subplot2grid((3, 3), (1, 1))\n",
        "\n",
        "    y.plot(ax=ax1, figsize=figsize, color='teal')\n",
        "    ax1.set_title(column)\n",
        "    plot_acf(y, lags=lags_plots, zero=False, ax=ax2, color='teal');\n",
        "    plot_pacf(y, lags=lags_plots, zero=False, ax=ax3, method='ols', color='teal');\n",
        "    plt.tight_layout()\n",
        "        "
      ],
      "execution_count": null,
      "outputs": []
    },
    {
      "cell_type": "code",
      "metadata": {
        "id": "ajkGVdiS_nGd"
      },
      "source": [
        "## autocorrelation for iqdiff\n",
        "df_iqdiff = df[df[\"all_gpq50\"] > 0]\n",
        "auto_correlation(df_iqdiff['normalized_iqdiff'].dropna(), 'standardized IQR', lags_plots=60)"
      ],
      "execution_count": null,
      "outputs": []
    },
    {
      "cell_type": "code",
      "metadata": {
        "id": "P8bjWTDJAojH"
      },
      "source": [
        "df_wt = df_13.reset_index(drop = True)\n",
        "df_wt[df_wt[\"all_wtq50\"] < 0] = 0\n",
        "auto_correlation(df_wt['all_wtq50'].dropna(), 'Median Waiting Time', lags_plots=60)"
      ],
      "execution_count": null,
      "outputs": []
    },
    {
      "cell_type": "code",
      "metadata": {
        "id": "2X7Fd2gcBgB8"
      },
      "source": [
        "auto_correlation(df['all_gpq50'].dropna(), 'Median Gas Price' ,lags_plots=60)"
      ],
      "execution_count": null,
      "outputs": []
    },
    {
      "cell_type": "markdown",
      "metadata": {
        "id": "LF2wsT1H4xBI"
      },
      "source": [
        "# Sibling & Security"
      ]
    },
    {
      "cell_type": "code",
      "metadata": {
        "id": "dKb8wacR4we9"
      },
      "source": [
        "# Merge Data\n",
        "gas_price = gas_price\n",
        "df_sibling = pd.merge(block, sibling_cnt, how = \"inner\", on = \"block_number\")\n",
        "df_sibling = pd.merge(df_sibling, gas_price, how = \"inner\", on = \"block_number\")\n",
        "df_sibling[\"adoption\"] = df_sibling[\"all_prcount\"]/df_sibling[\"all_gpcount\"]\n",
        "df_sibling[\"EIP\"] = (df_sibling[\"block_number\"] > 12965000) + 0\n",
        "df_sibling['BQ_timestamp'] = pd.to_datetime(df_sibling['BQ_timestamp'])\n",
        "df_sibling['Hour'] = df_sibling.BQ_timestamp.dt.floor(freq=\"H\")\n",
        "\n",
        "df_sibling = df_sibling[df_sibling['block_number'] < 13105000]\n",
        "df_sibling = df_sibling[df_sibling['block_number'] > 12894999]\n",
        "df_sibling['period'] = (df_sibling['block_number'] > 12894999).astype(int) + (df_sibling['block_number'] > 12964999).astype(int) + (df_sibling['block_number'] > 13034999).astype(int)\n",
        "df_sibling = df_sibling[df_sibling[\"period\"] != 2]\n",
        "\n",
        "df_sibling[\"gas_used_million\"] = df_sibling[\"gas_used\"]/10**6\n",
        "df_sibling[\"size_kbyte\"] = df_sibling[\"size\"]/1024\n",
        "df_sibling[\"sibling_x\"] = (df_sibling[\"sibling_cnt\"] > 0) + 0\n",
        "#df_sibling[\"EIP*gas_used\"] = df_sibling[\"EIP\"] * df_sibling[\"gas_used\"]"
      ],
      "execution_count": null,
      "outputs": []
    },
    {
      "cell_type": "code",
      "metadata": {
        "id": "Fu59NakPrBn5"
      },
      "source": [
        "df_sibling_hour = df_sibling.groupby([\"Hour\"])[\"sibling_cnt\"].sum().reset_index()\n",
        "\n",
        "trace = go.Scatter(x = df_sibling_hour[\"Hour\"], y = df_sibling_hour[\"sibling_cnt\"], hoverinfo='x+y', mode='lines', name = 'Hourly Sibling Count', marker=dict(size=2))\n",
        "layout = go.Layout(xaxis = dict(title=\"time\"), yaxis = dict(title =\"hourly sibling count\"), font = dict(size = 24)) \n",
        "fig_sibling = go.Figure(layout = layout, data = trace) \n",
        "\n",
        "fig_sibling.show()\n",
        "fig_sibling.write_image(\"/content/drive/MyDrive/EIP-1559/Code & Output/colab output/pdf/sibling.pdf\", width = 1200, height = 600)\n",
        "fig_sibling.write_image(\"/content/drive/MyDrive/EIP-1559/Code & Output/colab output/png/sibling.png\", width = 1200, height = 600)"
      ],
      "execution_count": null,
      "outputs": []
    },
    {
      "cell_type": "markdown",
      "metadata": {
        "id": "KWJJbdfYbviw"
      },
      "source": [
        "## Research Question 1 & 2"
      ]
    },
    {
      "cell_type": "code",
      "metadata": {
        "colab": {
          "base_uri": "https://localhost:8080/"
        },
        "id": "WZItaz6SmqSc",
        "outputId": "952cc812-1cfd-440a-d508-fd04e80c6721"
      },
      "source": [
        "df_sibling[df_sibling[\"block_number\"] < 12965000][\"size\"].describe()"
      ],
      "execution_count": null,
      "outputs": [
        {
          "output_type": "execute_result",
          "data": {
            "text/plain": [
              "count     69166.000000\n",
              "mean      64051.066391\n",
              "std       19887.066141\n",
              "min         631.000000\n",
              "25%       53152.000000\n",
              "50%       62870.000000\n",
              "75%       72734.750000\n",
              "max      420284.000000\n",
              "Name: size, dtype: float64"
            ]
          },
          "metadata": {},
          "execution_count": 17
        }
      ]
    },
    {
      "cell_type": "code",
      "metadata": {
        "colab": {
          "base_uri": "https://localhost:8080/"
        },
        "id": "F1CLk2I_m4vC",
        "outputId": "2067eb1d-562a-4337-a9a3-2a9839a56566"
      },
      "source": [
        "df_sibling[df_sibling[\"block_number\"] > 12965000][\"size\"].describe()"
      ],
      "execution_count": null,
      "outputs": [
        {
          "output_type": "execute_result",
          "data": {
            "text/plain": [
              "count    137917.000000\n",
              "mean      76596.501497\n",
              "std       55407.170224\n",
              "min         647.000000\n",
              "25%       28516.000000\n",
              "50%       66400.000000\n",
              "75%      119270.000000\n",
              "max      504962.000000\n",
              "Name: size, dtype: float64"
            ]
          },
          "metadata": {},
          "execution_count": 19
        }
      ]
    },
    {
      "cell_type": "code",
      "metadata": {
        "id": "r0TIpqCq6POj",
        "colab": {
          "base_uri": "https://localhost:8080/"
        },
        "outputId": "9e12b698-b854-4e41-dff5-859fc542ab0f"
      },
      "source": [
        "results1 = smf.ols('size ~ 1 + EIP', data=df_sibling).fit()\n",
        "results2 = smf.ols('size ~ 1 + EIP + adoption + gas_used + EIP:gas_used', data=df_sibling).fit()\n",
        "stargazer = Stargazer([results1 ,results2])\n",
        "stargazer.title('Block Size & Adoption Rate')\n",
        "stargazer.covariate_order(['EIP','adoption','gas_used', 'EIP:gas_used','Intercept'])\n",
        "HTML(stargazer.render_html())\n",
        "print(stargazer.render_latex())"
      ],
      "execution_count": null,
      "outputs": [
        {
          "output_type": "stream",
          "name": "stdout",
          "text": [
            "\\begin{table}[!htbp] \\centering\n",
            "  \\caption{Block Size & Adoption Rate}\n",
            "\\begin{tabular}{@{\\extracolsep{5pt}}lcc}\n",
            "\\\\[-1.8ex]\\hline\n",
            "\\hline \\\\[-1.8ex]\n",
            "& \\multicolumn{2}{c}{\\textit{Dependent variable:}} \\\n",
            "\\cr \\cline{2-3}\n",
            "\\\\[-1.8ex] & (1) & (2) \\\\\n",
            "\\hline \\\\[-1.8ex]\n",
            " EIP & 13960.686$^{***}$ & 25126.760$^{***}$ \\\\\n",
            "  & (225.731) & (7494.917) \\\\\n",
            " adoption & & 25803.954$^{***}$ \\\\\n",
            "  & & (357.959) \\\\\n",
            " gas_used & & 0.006$^{***}$ \\\\\n",
            "  & & (0.001) \\\\\n",
            " EIP:gas_used & & -0.002$^{***}$ \\\\\n",
            "  & & (0.001) \\\\\n",
            " Intercept & 64051.066$^{***}$ & -33113.125$^{***}$ \\\\\n",
            "  & (159.455) & (7492.033) \\\\\n",
            "\\hline \\\\[-1.8ex]\n",
            " Observations & 138,055 & 138,055 \\\\\n",
            " $R^2$ & 0.027 & 0.726 \\\\\n",
            " Adjusted $R^2$ & 0.027 & 0.726 \\\\\n",
            " Residual Std. Error & 41935.882(df = 138053) & 22251.126(df = 138050)  \\\\\n",
            " F Statistic & 3825.008$^{***}$ (df = 1.0; 138053.0) & 91473.617$^{***}$ (df = 4.0; 138050.0) \\\\\n",
            "\\hline\n",
            "\\hline \\\\[-1.8ex]\n",
            "\\textit{Note:} & \\multicolumn{2}{r}{$^{*}$p$<$0.1; $^{**}$p$<$0.05; $^{***}$p$<$0.01} \\\\\n",
            "\\end{tabular}\n",
            "\\end{table}\n"
          ]
        }
      ]
    },
    {
      "cell_type": "code",
      "metadata": {
        "id": "B6ueG0dCr1i0"
      },
      "source": [
        "# Generate PCV to Avoid MultiCollinearity between gas used and block size\n",
        "results1 = smf.ols('size ~ 1 + gas_used', data=df_sibling).fit()\n",
        "df_sibling['size_PCV'] = df_sibling[\"size\"] - results1.predict(df_sibling[\"gas_used\"])\n",
        "\n",
        "results2 = smf.ols('gas_used ~ 1 + size', data=df_sibling).fit()\n",
        "df_sibling['gas_PCV'] = df_sibling[\"gas_used\"] - results2.predict(df_sibling[\"size\"])\n",
        "\n",
        "from statsmodels.stats.outliers_influence import variance_inflation_factor\n",
        "X = df_sibling[[\"gas_used_million\", \"size_PCV\"]]\n",
        "\n",
        "# VIF dataframe\n",
        "vif_data = pd.DataFrame()\n",
        "vif_data[\"feature\"] = X.columns\n",
        "\n",
        "# calculating VIF for each feature\n",
        "vif_data[\"VIF\"] = [variance_inflation_factor(X.values, i)\n",
        "\t\t\t\t\t\tfor i in range(len(X.columns))]\n",
        "\n",
        "print(vif_data)"
      ],
      "execution_count": null,
      "outputs": []
    },
    {
      "cell_type": "code",
      "metadata": {
        "id": "XaBxH-5kDzP3",
        "colab": {
          "base_uri": "https://localhost:8080/"
        },
        "outputId": "1e791099-249c-4e73-d564-976fd7d74b4d"
      },
      "source": [
        "#Logit\n",
        "results1 = smf.logit('sibling_x ~ 1 + size_kbyte', data=df_sibling).fit()\n",
        "results2 = smf.logit('sibling_x ~ 1 + size_kbyte + EIP + adoption', data=df_sibling).fit()\n",
        "stargazer = Stargazer([results1 ,results2])\n",
        "stargazer.title('Sibling Count & Block Size')\n",
        "stargazer.significant_digits(4)\n",
        "stargazer.covariate_order(['size_kbyte', 'EIP',  'adoption', 'Intercept'])\n",
        "HTML(stargazer.render_html())\n",
        "print(stargazer.render_latex())"
      ],
      "execution_count": null,
      "outputs": [
        {
          "output_type": "stream",
          "name": "stdout",
          "text": [
            "Optimization terminated successfully.\n",
            "         Current function value: 0.188710\n",
            "         Iterations 7\n",
            "Optimization terminated successfully.\n",
            "         Current function value: 0.188677\n",
            "         Iterations 7\n",
            "\\begin{table}[!htbp] \\centering\n",
            "  \\caption{Sibling Count & Block Size}\n",
            "\\begin{tabular}{@{\\extracolsep{5pt}}lcc}\n",
            "\\\\[-1.8ex]\\hline\n",
            "\\hline \\\\[-1.8ex]\n",
            "& \\multicolumn{2}{c}{\\textit{Dependent variable:}} \\\n",
            "\\cr \\cline{2-3}\n",
            "\\\\[-1.8ex] & (1) & (2) \\\\\n",
            "\\hline \\\\[-1.8ex]\n",
            " size_kbyte & 0.0034$^{***}$ & 0.0036$^{***}$ \\\\\n",
            "  & (0.0003) & (0.0003) \\\\\n",
            " EIP & & 0.0704$^{*}$ \\\\\n",
            "  & & (0.0400) \\\\\n",
            " adoption & & -0.2257$^{***}$ \\\\\n",
            "  & & (0.0764) \\\\\n",
            " Intercept & -3.2573$^{***}$ & -3.2608$^{***}$ \\\\\n",
            "  & (0.0249) & (0.0263) \\\\\n",
            "\\hline \\\\[-1.8ex]\n",
            " Observations & 138,055 & 138,055 \\\\\n",
            " $R^2$ &  &  \\\\\n",
            " Adjusted $R^2$ &  &  \\\\\n",
            " Residual Std. Error & 1.0000(df = 138053) & 1.0000(df = 138051)  \\\\\n",
            " F Statistic & $^{}$ (df = 1.0; 138053.0) & $^{}$ (df = 3.0; 138051.0) \\\\\n",
            "\\hline\n",
            "\\hline \\\\[-1.8ex]\n",
            "\\textit{Note:} & \\multicolumn{2}{r}{$^{*}$p$<$0.1; $^{**}$p$<$0.05; $^{***}$p$<$0.01} \\\\\n",
            "\\end{tabular}\n",
            "\\end{table}\n"
          ]
        }
      ]
    },
    {
      "cell_type": "code",
      "metadata": {
        "id": "rVW0facFk2yI"
      },
      "source": [
        "df_sibling_3[\"size_kbyte\"].describe()"
      ],
      "execution_count": null,
      "outputs": []
    },
    {
      "cell_type": "code",
      "metadata": {
        "id": "beRmBbsAu7SD"
      },
      "source": [
        "# Logit with PCV\n",
        "df_sibling[\"gas_used_million\"] = df_sibling[\"gas_used\"]/10**6\n",
        "df_sibling[\"size_kbyte\"] = df_sibling[\"size\"]/1024\n",
        "results1 = smf.logit('sibling_x ~ 1 + size_PCV + gas_used_million', data=df_sibling).fit()\n",
        "results2 = smf.logit('sibling_x ~ 1 + gas_used_million', data=df_sibling).fit()\n",
        "results3 = smf.logit('sibling_x ~ 1 + size_PCV', data=df_sibling).fit()\n",
        "results4 = smf.logit('sibling_x ~ 1 + size_PCV + gas_used_million + EIP + EIP*size_PCV + EIP*gas_used_million', data=df_sibling).fit()\n",
        "stargazer2 = Stargazer([results1 ,results2, results3, results4])\n",
        "stargazer2.title('Sibling Count & Block Size')\n",
        "stargazer2.significant_digits(7)\n",
        "stargazer2.covariate_order(['size_PCV', 'gas_used_million', 'EIP', 'EIP:size_PCV', 'EIP:gas_used_million', 'Intercept'])\n",
        "stargazer2.show_confidence_intervals(True)\n",
        "HTML(stargazer2.render_html())"
      ],
      "execution_count": null,
      "outputs": []
    },
    {
      "cell_type": "code",
      "metadata": {
        "id": "V5XxWrrQoPgP"
      },
      "source": [
        "df_sibling_1 = df_sibling[df_sibling[\"block_number\"] < 12965000]\n",
        "df_sibling_1 = df_sibling_1[df_sibling_1[\"block_number\"] > 12894999]\n",
        "df_sibling_3 = df_sibling[df_sibling[\"block_number\"] > 13034999]\n",
        "df_sibling_3 = df_sibling_3[df_sibling_3[\"block_number\"] < 13105000]"
      ],
      "execution_count": null,
      "outputs": []
    },
    {
      "cell_type": "code",
      "metadata": {
        "colab": {
          "base_uri": "https://localhost:8080/"
        },
        "id": "bEJ6_GU0jMHQ",
        "outputId": "0b7268f3-8285-486f-869f-ef3aaf76354c"
      },
      "source": [
        "df_sibling_1[\"sibling_cnt\"].mean()"
      ],
      "execution_count": null,
      "outputs": [
        {
          "data": {
            "text/plain": [
              "0.047263106150420724"
            ]
          },
          "execution_count": 23,
          "metadata": {},
          "output_type": "execute_result"
        }
      ]
    },
    {
      "cell_type": "code",
      "metadata": {
        "colab": {
          "base_uri": "https://localhost:8080/"
        },
        "id": "ZloBiiotkaNs",
        "outputId": "967fb209-2f62-43be-9bb7-0a987aa2bd78"
      },
      "source": [
        "(df_sibling_3[\"sibling_cnt\"].mean() - df_sibling_1[\"sibling_cnt\"].mean())/df_sibling_1[\"sibling_cnt\"].mean()"
      ],
      "execution_count": null,
      "outputs": [
        {
          "data": {
            "text/plain": [
              "0.03749856443086714"
            ]
          },
          "execution_count": 49,
          "metadata": {},
          "output_type": "execute_result"
        }
      ]
    },
    {
      "cell_type": "code",
      "metadata": {
        "id": "R6qj3uXdomHE"
      },
      "source": [
        "df_sibling_before[df_sibling_before[\"sibling_cnt\"] == 3]"
      ],
      "execution_count": null,
      "outputs": []
    },
    {
      "cell_type": "code",
      "metadata": {
        "id": "kpvycxIcosxD"
      },
      "source": [
        "df_sibling_after[df_sibling_after[\"sibling_cnt\"] == 3]"
      ],
      "execution_count": null,
      "outputs": []
    },
    {
      "cell_type": "code",
      "metadata": {
        "id": "eIx5WG0NpTaS"
      },
      "source": [
        "df_sibling[\"sibling_cnt_ma5\"] = df_sibling[\"sibling_cnt\"].rolling(window=5).sum()\n",
        "df_sibling[\"sibling_cnt_ma20\"] = df_sibling[\"sibling_cnt\"].rolling(window=20).sum()\n",
        "df_sibling[\"sibling_cnt_ma50\"] = df_sibling[\"sibling_cnt\"].rolling(window=50).sum()\n",
        "df_sibling[\"sibling_cnt_ma200\"] = df_sibling[\"sibling_cnt\"].rolling(window=200).sum()\n",
        "df_sibling[\"sibling_cnt_ma500\"] = df_sibling[\"sibling_cnt\"].rolling(window=500).sum()\n",
        "df_sibling_before = df_sibling[df_sibling[\"block_number\"] < 12965000]\n",
        "df_sibling_before = df_sibling_before[df_sibling_before[\"block_number\"] > 12895000]\n",
        "df_sibling_after = df_sibling[df_sibling[\"block_number\"] > 12965000]\n",
        "df_sibling_after = df_sibling_after[df_sibling_after[\"block_number\"] < 13105000]"
      ],
      "execution_count": null,
      "outputs": []
    },
    {
      "cell_type": "code",
      "metadata": {
        "id": "vBvx7AcOp5Qw"
      },
      "source": [
        "df_sibling_before[\"sibling_cnt_20\"].describe(percentiles = [.75, .95, .99, .999])"
      ],
      "execution_count": null,
      "outputs": []
    },
    {
      "cell_type": "code",
      "metadata": {
        "id": "vAB1B5GFqEAw"
      },
      "source": [
        "df_sibling_after[\"sibling_cnt_20\"].describe([.75, .95, .99, .999])"
      ],
      "execution_count": null,
      "outputs": []
    },
    {
      "cell_type": "code",
      "metadata": {
        "id": "bkshpxDfwteD"
      },
      "source": [
        "df_sibling_after.loc[267130:267178, [\"sibling_cnt\", \"block_number\"]]"
      ],
      "execution_count": null,
      "outputs": []
    },
    {
      "cell_type": "markdown",
      "metadata": {
        "id": "bR9ow34NbxfW"
      },
      "source": [
        "## Part II"
      ]
    },
    {
      "cell_type": "code",
      "metadata": {
        "id": "8Fccue4Ob0Tp"
      },
      "source": [
        "df_sibling[\"gas_used_ma10\"] = df_sibling[\"gas_used\"].rolling(10).sum()\n",
        "df_sibling[\"spike0\"] = (df_sibling[\"gas_used_ma10\"] > 200000000)\n",
        "df_sibling[\"spike1\"] = df_sibling[\"spike0\"].shift(-1)\n",
        "df_sibling[\"spike2\"] = df_sibling[\"spike0\"].shift(-2)\n",
        "df_sibling[\"spike3\"] = df_sibling[\"spike0\"].shift(-3)\n",
        "df_sibling[\"spike4\"] = df_sibling[\"spike0\"].shift(-4)\n",
        "df_sibling[\"spike5\"] = df_sibling[\"spike0\"].shift(-5)\n",
        "df_sibling[\"spike6\"] = df_sibling[\"spike0\"].shift(-6)\n",
        "df_sibling[\"spike7\"] = df_sibling[\"spike0\"].shift(-7)\n",
        "df_sibling[\"spike8\"] = df_sibling[\"spike0\"].shift(-8)\n",
        "df_sibling[\"spike9\"] = df_sibling[\"spike0\"].shift(-9)\n",
        "df_sibling[\"spike\"] = (df_sibling[\"spike0\"] | df_sibling[\"spike1\"] | df_sibling[\"spike2\"] | df_sibling[\"spike3\"] | df_sibling[\"spike4\"] | df_sibling[\"spike5\"] | df_sibling[\"spike6\"] | df_sibling[\"spike7\"] | df_sibling[\"spike8\"] | df_sibling[\"spike9\"]) + 0"
      ],
      "execution_count": null,
      "outputs": []
    },
    {
      "cell_type": "code",
      "metadata": {
        "id": "t17TSmDYdGLB"
      },
      "source": [
        "df_sibling = df_sibling[df_sibling[\"block_number\"] < 13105000]\n",
        "df_sibling = df_sibling[df_sibling[\"block_number\"] > 12894999]\n",
        "df_sibling[\"sibling_cnt_ma5\"] = df_sibling[\"sibling_cnt\"].rolling(window=5).sum()\n",
        "df_sibling[\"sibling_cnt_ma20\"] = df_sibling[\"sibling_cnt\"].rolling(window=20).sum()\n",
        "df_sibling[\"sibling_cnt_ma50\"] = df_sibling[\"sibling_cnt\"].rolling(window=50).sum()\n",
        "df_sibling[\"sibling_cnt_ma200\"] = df_sibling[\"sibling_cnt\"].rolling(window=200).sum()\n",
        "df_sibling[\"sibling_cnt_ma500\"] = df_sibling[\"sibling_cnt\"].rolling(window=500).sum()\n",
        "df_sibling[\"spike\"].describe()"
      ],
      "execution_count": null,
      "outputs": []
    },
    {
      "cell_type": "code",
      "metadata": {
        "id": "1VRju1VkfjQD"
      },
      "source": [
        "df_sibling_spike = df_sibling[df_sibling[\"spike\"] == 1]\n",
        "df_sibling_normal = df_sibling[df_sibling[\"spike\"] == 0]"
      ],
      "execution_count": null,
      "outputs": []
    },
    {
      "cell_type": "code",
      "metadata": {
        "id": "pJHNq501gYFn"
      },
      "source": [
        "df_sibling[\"gas_used_million\"] = df_sibling[\"gas_used\"]/10**6\n",
        "df_sibling[\"size_kbyte\"] = df_sibling[\"size\"]/1024\n",
        "df_sibling[\"sibling_x\"] = (df_sibling[\"sibling_cnt\"] > 0) + 0\n",
        "results1 = smf.ols('sibling_cnt ~ 1 + spike + EIP + size_kbyte + gas_used_million', data=df_sibling).fit()\n",
        "results2 = smf.ols('sibling_cnt ~ 1 + spike + EIP', data=df_sibling).fit()\n",
        "results3 = smf.ols('sibling_cnt ~ 1 + EIP + size_kbyte + gas_used_million', data=df_sibling).fit()\n",
        "stargazer3 = Stargazer([results1 ,results2, results3])\n",
        "stargazer3.title('Sibling Count & Spikes')\n",
        "stargazer3.significant_digits(5)\n",
        "stargazer3.covariate_order(['spike', 'EIP','size_kbyte', 'gas_used_million', 'Intercept'])\n",
        "stargazer3.show_confidence_intervals(True)\n",
        "HTML(stargazer3.render_html())"
      ],
      "execution_count": null,
      "outputs": []
    },
    {
      "cell_type": "code",
      "metadata": {
        "id": "hh2qDVsulfRa"
      },
      "source": [
        "df_sibling[\"gas_used_million\"] = df_sibling[\"gas_used\"]/10**6\n",
        "df_sibling[\"size_kbyte\"] = df_sibling[\"size\"]/1024\n",
        "df_sibling[\"sibling_x\"] = (df_sibling[\"sibling_cnt\"] > 0) + 0\n",
        "results1 = smf.logit('sibling_x ~ 1 + spike + EIP + size_kbyte + gas_used_million', data=df_sibling).fit()\n",
        "results2 = smf.logit('sibling_x ~ 1 + spike + EIP', data=df_sibling).fit()\n",
        "results3 = smf.logit('sibling_x ~ 1 + EIP + size_kbyte + gas_used_million', data=df_sibling).fit()\n",
        "stargazer3 = Stargazer([results1 ,results2, results3])\n",
        "stargazer3.title('Sibling Count & Spikes')\n",
        "stargazer3.significant_digits(5)\n",
        "stargazer3.covariate_order(['spike', 'EIP','size_kbyte', 'gas_used_million', 'Intercept'])\n",
        "stargazer3.show_confidence_intervals(True)\n",
        "HTML(stargazer3.render_html())"
      ],
      "execution_count": null,
      "outputs": []
    },
    {
      "cell_type": "code",
      "metadata": {
        "id": "nNBaYhJKjkMw"
      },
      "source": [
        "df_sibling[\"gas_used_million\"] = df_sibling[\"gas_used\"]/10**6\n",
        "df_sibling[\"size_kbyte\"] = df_sibling[\"size\"]/1024\n",
        "results1 = smf.mnlogit('sibling_cnt ~ 1 + spike + EIP + size_kbyte + gas_used_million', data=df_sibling).fit()\n",
        "results2 = smf.mnlogit('sibling_cnt ~ 1 + spike + EIP', data=df_sibling).fit()\n",
        "results3 = smf.mnlogit('sibling_cnt ~ 1 + EIP + size_kbyte + gas_used_million', data=df_sibling).fit()\n",
        "stargazer3 = Stargazer([results1 ,results2, results3])\n",
        "stargazer3.title('Sibling Count & Spikes')\n",
        "stargazer3.significant_digits(5)\n",
        "stargazer3.covariate_order(['spike', 'EIP','size_kbyte', 'gas_used_million', 'Intercept'])\n",
        "stargazer3.show_confidence_intervals(True)\n",
        "HTML(stargazer3.render_html())"
      ],
      "execution_count": null,
      "outputs": []
    },
    {
      "cell_type": "code",
      "metadata": {
        "id": "n8Z4t8xZmF0f"
      },
      "source": [
        "df_sibling_normal[\"sibling_cnt_ma20\"].describe(percentiles = [.75, .95, .99, .999])"
      ],
      "execution_count": null,
      "outputs": []
    },
    {
      "cell_type": "code",
      "metadata": {
        "id": "Cycb2WyJmWXb"
      },
      "source": [
        "df_sibling_spike[\"sibling_cnt_ma20\"].describe(percentiles = [.75, .95, .99, .999])"
      ],
      "execution_count": null,
      "outputs": []
    },
    {
      "cell_type": "markdown",
      "metadata": {
        "id": "hdH1ryd24fwH"
      },
      "source": [
        "## Research Question 3"
      ]
    },
    {
      "cell_type": "code",
      "metadata": {
        "id": "NMWrouUy4hZH"
      },
      "source": [
        "results1 = smf.ols('gas_used ~ 1 + EIP + adoption', data=df_13).fit()\n",
        "results2 = smf.ols('gas_used ~ 1 + EIP', data=df_13).fit()\n",
        "results3 = smf.ols('gas_used ~ 1 + adoption', data=df_13).fit()\n",
        "stargazer1 = Stargazer([results1 ,results2, results3])\n",
        "stargazer1.title('Gas Used & EIP')\n",
        "stargazer1.covariate_order(['adoption','EIP'])\n",
        "stargazer1.show_confidence_intervals(True)\n",
        "HTML(stargazer1.render_html())"
      ],
      "execution_count": null,
      "outputs": []
    },
    {
      "cell_type": "markdown",
      "metadata": {
        "id": "Y1OcPJyriKdn"
      },
      "source": [
        "## Research Question 4"
      ]
    },
    {
      "cell_type": "code",
      "metadata": {
        "id": "JJ1byv3URYJV"
      },
      "source": [
        "timestamp = block[[\"BQ_timestamp\", \"block_number\"]]\n",
        "timestamp = timestamp[timestamp[\"block_number\"] > 12894999]\n",
        "timestamp = timestamp[timestamp[\"block_number\"] < 13105000]\n",
        "timestamp = timestamp.reset_index(drop = True)\n",
        "timestamp[\"timestamp\"] = pd.DatetimeIndex(timestamp.BQ_timestamp).astype(np.int64)/1000000000\n",
        "timestamp = timestamp[[\"block_number\", \"timestamp\"]]\n",
        "timestamp.to_csv(\"/content/drive/MyDrive/EIP-1559/EIP-1559 Data/timestamp.csv\")"
      ],
      "execution_count": null,
      "outputs": []
    },
    {
      "cell_type": "code",
      "metadata": {
        "id": "AnRnETg9l5wd"
      },
      "source": [
        "avggas.loc[avggas[\"block_number\"] < 12965000, \"EIP\"] = \"pre-EIP\"\n",
        "avggas.loc[avggas[\"block_number\"] > 12964999, \"EIP\"] = \"post-EIP\"\n",
        "\n",
        "fig = make_subplots(\n",
        "    rows=2, cols=3,\n",
        "    subplot_titles=(\"20 sec\", \"30 sec\", \"40 sec\", \"60 sec\", \"90 sec\", \"120 sec\"))\n",
        "fig.add_trace(go.Violin(x=avggas['EIP'], y=avggas['20 sec'], name = \"20 sec\"), row=1, col=1)\n",
        "fig.add_trace(go.Violin(x=avggas['EIP'], y=avggas['30 sec'], name = \"30 sec\"), row=1, col=2)\n",
        "fig.add_trace(go.Violin(x=avggas['EIP'], y=avggas['40 sec'], name = \"40 sec\"), row=1, col=3)\n",
        "fig.add_trace(go.Violin(x=avggas['EIP'], y=avggas['60 sec'], name = \"60 sec\"), row=2, col=1)\n",
        "fig.add_trace(go.Violin(x=avggas['EIP'], y=avggas['90 sec'], name = \"90 sec\"), row=2, col=2)\n",
        "fig.add_trace(go.Violin(x=avggas['EIP'], y=avggas['120 sec'], name = \"120 sec\"), row=2, col=3)\n",
        "fig.update_layout(showlegend=False,\n",
        "                  font = dict(size = 30))\n",
        "fig.update_yaxes(range=[0, 6000000], row=1, col=1)\n",
        "fig.update_yaxes(range=[0, 6000000], row=1, col=2)\n",
        "fig.update_yaxes(range=[0, 6000000], row=1, col=3)\n",
        "fig.update_yaxes(range=[0, 6000000], row=2, col=1)\n",
        "fig.update_yaxes(range=[0, 6000000], row=2, col=2)\n",
        "fig.update_yaxes(range=[0, 6000000], row=2, col=3)\n",
        "\n",
        "for i in fig['layout']['annotations']:\n",
        "    i['font'] = dict(size=24)\n",
        "    \n",
        "#fig.show()\n",
        "fig.write_image(\"/content/drive/MyDrive/EIP-1559/Code & Output/colab output/pdf/avggas.pdf\", width = 1200, height = 800)\n",
        "fig.write_image(\"/content/drive/MyDrive/EIP-1559/Code & Output/colab output/png/avggas.png\", width = 1200, height = 800)"
      ],
      "execution_count": null,
      "outputs": []
    }
  ]
}